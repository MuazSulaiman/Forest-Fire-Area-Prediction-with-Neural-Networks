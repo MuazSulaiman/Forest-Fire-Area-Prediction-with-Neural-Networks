{
 "cells": [
  {
   "cell_type": "markdown",
   "metadata": {},
   "source": [
    "# Start Time"
   ]
  },
  {
   "cell_type": "code",
   "execution_count": 1,
   "metadata": {},
   "outputs": [],
   "source": [
    "import time\n",
    "\n",
    "start_time = time.time()"
   ]
  },
  {
   "cell_type": "markdown",
   "metadata": {},
   "source": [
    "# Forest Fires"
   ]
  },
  {
   "cell_type": "markdown",
   "metadata": {},
   "source": [
    "## ASK"
   ]
  },
  {
   "cell_type": "markdown",
   "metadata": {},
   "source": [
    "What factors do affect forest fires?  \n",
    "- Weather Conditions:\n",
    "    - Temperature\n",
    "    - Humidity\n",
    "    - Wind\n",
    "    - Rainfall\n",
    "- Fuel Load and Moisture:\n",
    "    - Fuel Type\n",
    "    - Fuel Moisture\n",
    "- Ignition Sources:\n",
    "    - Human Activities\n",
    "    - Lightning\n",
    "- Drought and Climate Conditions:\n",
    "    - Long-term Drought\n",
    "    - Climate Change"
   ]
  },
  {
   "cell_type": "markdown",
   "metadata": {},
   "source": [
    "## PREPARE"
   ]
  },
  {
   "cell_type": "markdown",
   "metadata": {},
   "source": [
    "### Importing needed packages"
   ]
  },
  {
   "cell_type": "code",
   "execution_count": 2,
   "metadata": {},
   "outputs": [],
   "source": [
    "# Needed packages to manipulate the data\n",
    "import pandas as pd\n",
    "import numpy as np\n",
    "\n",
    "# Needed packages to visualize the data\n",
    "import matplotlib.pyplot as plt\n",
    "\n",
    "# Needed packages to prepare the data for the Neural Network Model\n",
    "from sklearn.preprocessing import StandardScaler\n",
    "from sklearn.preprocessing import OneHotEncoder\n",
    "from sklearn.model_selection import train_test_split\n",
    "\n",
    "# Needed packages to deploy the Neural Network Model\n",
    "import tensorflow as tf\n",
    "from tensorflow.keras.models import Sequential\n",
    "from tensorflow.keras.layers import Dense, Dropout"
   ]
  },
  {
   "cell_type": "markdown",
   "metadata": {},
   "source": [
    "### Uploading the Dataset"
   ]
  },
  {
   "cell_type": "code",
   "execution_count": 3,
   "metadata": {},
   "outputs": [
    {
     "data": {
      "text/html": [
       "<div>\n",
       "<style scoped>\n",
       "    .dataframe tbody tr th:only-of-type {\n",
       "        vertical-align: middle;\n",
       "    }\n",
       "\n",
       "    .dataframe tbody tr th {\n",
       "        vertical-align: top;\n",
       "    }\n",
       "\n",
       "    .dataframe thead th {\n",
       "        text-align: right;\n",
       "    }\n",
       "</style>\n",
       "<table border=\"1\" class=\"dataframe\">\n",
       "  <thead>\n",
       "    <tr style=\"text-align: right;\">\n",
       "      <th></th>\n",
       "      <th>X</th>\n",
       "      <th>Y</th>\n",
       "      <th>month</th>\n",
       "      <th>day</th>\n",
       "      <th>FFMC</th>\n",
       "      <th>DMC</th>\n",
       "      <th>DC</th>\n",
       "      <th>ISI</th>\n",
       "      <th>temp</th>\n",
       "      <th>RH</th>\n",
       "      <th>wind</th>\n",
       "      <th>rain</th>\n",
       "      <th>area</th>\n",
       "    </tr>\n",
       "  </thead>\n",
       "  <tbody>\n",
       "    <tr>\n",
       "      <th>0</th>\n",
       "      <td>7</td>\n",
       "      <td>5</td>\n",
       "      <td>mar</td>\n",
       "      <td>fri</td>\n",
       "      <td>86.2</td>\n",
       "      <td>26.2</td>\n",
       "      <td>94.3</td>\n",
       "      <td>5.1</td>\n",
       "      <td>8.2</td>\n",
       "      <td>51</td>\n",
       "      <td>6.7</td>\n",
       "      <td>0.0</td>\n",
       "      <td>0.0</td>\n",
       "    </tr>\n",
       "    <tr>\n",
       "      <th>1</th>\n",
       "      <td>7</td>\n",
       "      <td>4</td>\n",
       "      <td>oct</td>\n",
       "      <td>tue</td>\n",
       "      <td>90.6</td>\n",
       "      <td>35.4</td>\n",
       "      <td>669.1</td>\n",
       "      <td>6.7</td>\n",
       "      <td>18.0</td>\n",
       "      <td>33</td>\n",
       "      <td>0.9</td>\n",
       "      <td>0.0</td>\n",
       "      <td>0.0</td>\n",
       "    </tr>\n",
       "    <tr>\n",
       "      <th>2</th>\n",
       "      <td>7</td>\n",
       "      <td>4</td>\n",
       "      <td>oct</td>\n",
       "      <td>sat</td>\n",
       "      <td>90.6</td>\n",
       "      <td>43.7</td>\n",
       "      <td>686.9</td>\n",
       "      <td>6.7</td>\n",
       "      <td>14.6</td>\n",
       "      <td>33</td>\n",
       "      <td>1.3</td>\n",
       "      <td>0.0</td>\n",
       "      <td>0.0</td>\n",
       "    </tr>\n",
       "    <tr>\n",
       "      <th>3</th>\n",
       "      <td>8</td>\n",
       "      <td>6</td>\n",
       "      <td>mar</td>\n",
       "      <td>fri</td>\n",
       "      <td>91.7</td>\n",
       "      <td>33.3</td>\n",
       "      <td>77.5</td>\n",
       "      <td>9.0</td>\n",
       "      <td>8.3</td>\n",
       "      <td>97</td>\n",
       "      <td>4.0</td>\n",
       "      <td>0.2</td>\n",
       "      <td>0.0</td>\n",
       "    </tr>\n",
       "    <tr>\n",
       "      <th>4</th>\n",
       "      <td>8</td>\n",
       "      <td>6</td>\n",
       "      <td>mar</td>\n",
       "      <td>sun</td>\n",
       "      <td>89.3</td>\n",
       "      <td>51.3</td>\n",
       "      <td>102.2</td>\n",
       "      <td>9.6</td>\n",
       "      <td>11.4</td>\n",
       "      <td>99</td>\n",
       "      <td>1.8</td>\n",
       "      <td>0.0</td>\n",
       "      <td>0.0</td>\n",
       "    </tr>\n",
       "  </tbody>\n",
       "</table>\n",
       "</div>"
      ],
      "text/plain": [
       "   X  Y month  day  FFMC   DMC     DC  ISI  temp  RH  wind  rain  area\n",
       "0  7  5   mar  fri  86.2  26.2   94.3  5.1   8.2  51   6.7   0.0   0.0\n",
       "1  7  4   oct  tue  90.6  35.4  669.1  6.7  18.0  33   0.9   0.0   0.0\n",
       "2  7  4   oct  sat  90.6  43.7  686.9  6.7  14.6  33   1.3   0.0   0.0\n",
       "3  8  6   mar  fri  91.7  33.3   77.5  9.0   8.3  97   4.0   0.2   0.0\n",
       "4  8  6   mar  sun  89.3  51.3  102.2  9.6  11.4  99   1.8   0.0   0.0"
      ]
     },
     "execution_count": 3,
     "metadata": {},
     "output_type": "execute_result"
    }
   ],
   "source": [
    "path = \"C:/Users/muazs/Desktop/Sprints/Project 3/forestfires.csv\"\n",
    "\n",
    "data = pd.read_csv(path) # reading the dataset using read_csv\n",
    "\n",
    "data.head()"
   ]
  },
  {
   "cell_type": "markdown",
   "metadata": {},
   "source": [
    "## PROCESS"
   ]
  },
  {
   "cell_type": "markdown",
   "metadata": {},
   "source": [
    "### Exploring the Dataset"
   ]
  },
  {
   "cell_type": "markdown",
   "metadata": {},
   "source": [
    "#### Shape"
   ]
  },
  {
   "cell_type": "code",
   "execution_count": 4,
   "metadata": {},
   "outputs": [
    {
     "data": {
      "text/plain": [
       "(517, 13)"
      ]
     },
     "execution_count": 4,
     "metadata": {},
     "output_type": "execute_result"
    }
   ],
   "source": [
    "data.shape # extracting the dataset shape"
   ]
  },
  {
   "cell_type": "markdown",
   "metadata": {},
   "source": [
    "The data have 517 rows and 13 columns"
   ]
  },
  {
   "cell_type": "markdown",
   "metadata": {},
   "source": [
    "#### Description"
   ]
  },
  {
   "cell_type": "code",
   "execution_count": 5,
   "metadata": {},
   "outputs": [
    {
     "data": {
      "text/html": [
       "<div>\n",
       "<style scoped>\n",
       "    .dataframe tbody tr th:only-of-type {\n",
       "        vertical-align: middle;\n",
       "    }\n",
       "\n",
       "    .dataframe tbody tr th {\n",
       "        vertical-align: top;\n",
       "    }\n",
       "\n",
       "    .dataframe thead th {\n",
       "        text-align: right;\n",
       "    }\n",
       "</style>\n",
       "<table border=\"1\" class=\"dataframe\">\n",
       "  <thead>\n",
       "    <tr style=\"text-align: right;\">\n",
       "      <th></th>\n",
       "      <th>count</th>\n",
       "      <th>mean</th>\n",
       "      <th>std</th>\n",
       "      <th>min</th>\n",
       "      <th>25%</th>\n",
       "      <th>50%</th>\n",
       "      <th>75%</th>\n",
       "      <th>max</th>\n",
       "    </tr>\n",
       "  </thead>\n",
       "  <tbody>\n",
       "    <tr>\n",
       "      <th>X</th>\n",
       "      <td>517.0</td>\n",
       "      <td>4.669246</td>\n",
       "      <td>2.313778</td>\n",
       "      <td>1.0</td>\n",
       "      <td>3.0</td>\n",
       "      <td>4.00</td>\n",
       "      <td>7.00</td>\n",
       "      <td>9.00</td>\n",
       "    </tr>\n",
       "    <tr>\n",
       "      <th>Y</th>\n",
       "      <td>517.0</td>\n",
       "      <td>4.299807</td>\n",
       "      <td>1.229900</td>\n",
       "      <td>2.0</td>\n",
       "      <td>4.0</td>\n",
       "      <td>4.00</td>\n",
       "      <td>5.00</td>\n",
       "      <td>9.00</td>\n",
       "    </tr>\n",
       "    <tr>\n",
       "      <th>FFMC</th>\n",
       "      <td>517.0</td>\n",
       "      <td>90.644681</td>\n",
       "      <td>5.520111</td>\n",
       "      <td>18.7</td>\n",
       "      <td>90.2</td>\n",
       "      <td>91.60</td>\n",
       "      <td>92.90</td>\n",
       "      <td>96.20</td>\n",
       "    </tr>\n",
       "    <tr>\n",
       "      <th>DMC</th>\n",
       "      <td>517.0</td>\n",
       "      <td>110.872340</td>\n",
       "      <td>64.046482</td>\n",
       "      <td>1.1</td>\n",
       "      <td>68.6</td>\n",
       "      <td>108.30</td>\n",
       "      <td>142.40</td>\n",
       "      <td>291.30</td>\n",
       "    </tr>\n",
       "    <tr>\n",
       "      <th>DC</th>\n",
       "      <td>517.0</td>\n",
       "      <td>547.940039</td>\n",
       "      <td>248.066192</td>\n",
       "      <td>7.9</td>\n",
       "      <td>437.7</td>\n",
       "      <td>664.20</td>\n",
       "      <td>713.90</td>\n",
       "      <td>860.60</td>\n",
       "    </tr>\n",
       "    <tr>\n",
       "      <th>ISI</th>\n",
       "      <td>517.0</td>\n",
       "      <td>9.021663</td>\n",
       "      <td>4.559477</td>\n",
       "      <td>0.0</td>\n",
       "      <td>6.5</td>\n",
       "      <td>8.40</td>\n",
       "      <td>10.80</td>\n",
       "      <td>56.10</td>\n",
       "    </tr>\n",
       "    <tr>\n",
       "      <th>temp</th>\n",
       "      <td>517.0</td>\n",
       "      <td>18.889168</td>\n",
       "      <td>5.806625</td>\n",
       "      <td>2.2</td>\n",
       "      <td>15.5</td>\n",
       "      <td>19.30</td>\n",
       "      <td>22.80</td>\n",
       "      <td>33.30</td>\n",
       "    </tr>\n",
       "    <tr>\n",
       "      <th>RH</th>\n",
       "      <td>517.0</td>\n",
       "      <td>44.288201</td>\n",
       "      <td>16.317469</td>\n",
       "      <td>15.0</td>\n",
       "      <td>33.0</td>\n",
       "      <td>42.00</td>\n",
       "      <td>53.00</td>\n",
       "      <td>100.00</td>\n",
       "    </tr>\n",
       "    <tr>\n",
       "      <th>wind</th>\n",
       "      <td>517.0</td>\n",
       "      <td>4.017602</td>\n",
       "      <td>1.791653</td>\n",
       "      <td>0.4</td>\n",
       "      <td>2.7</td>\n",
       "      <td>4.00</td>\n",
       "      <td>4.90</td>\n",
       "      <td>9.40</td>\n",
       "    </tr>\n",
       "    <tr>\n",
       "      <th>rain</th>\n",
       "      <td>517.0</td>\n",
       "      <td>0.021663</td>\n",
       "      <td>0.295959</td>\n",
       "      <td>0.0</td>\n",
       "      <td>0.0</td>\n",
       "      <td>0.00</td>\n",
       "      <td>0.00</td>\n",
       "      <td>6.40</td>\n",
       "    </tr>\n",
       "    <tr>\n",
       "      <th>area</th>\n",
       "      <td>517.0</td>\n",
       "      <td>12.847292</td>\n",
       "      <td>63.655818</td>\n",
       "      <td>0.0</td>\n",
       "      <td>0.0</td>\n",
       "      <td>0.52</td>\n",
       "      <td>6.57</td>\n",
       "      <td>1090.84</td>\n",
       "    </tr>\n",
       "  </tbody>\n",
       "</table>\n",
       "</div>"
      ],
      "text/plain": [
       "      count        mean         std   min    25%     50%     75%      max\n",
       "X     517.0    4.669246    2.313778   1.0    3.0    4.00    7.00     9.00\n",
       "Y     517.0    4.299807    1.229900   2.0    4.0    4.00    5.00     9.00\n",
       "FFMC  517.0   90.644681    5.520111  18.7   90.2   91.60   92.90    96.20\n",
       "DMC   517.0  110.872340   64.046482   1.1   68.6  108.30  142.40   291.30\n",
       "DC    517.0  547.940039  248.066192   7.9  437.7  664.20  713.90   860.60\n",
       "ISI   517.0    9.021663    4.559477   0.0    6.5    8.40   10.80    56.10\n",
       "temp  517.0   18.889168    5.806625   2.2   15.5   19.30   22.80    33.30\n",
       "RH    517.0   44.288201   16.317469  15.0   33.0   42.00   53.00   100.00\n",
       "wind  517.0    4.017602    1.791653   0.4    2.7    4.00    4.90     9.40\n",
       "rain  517.0    0.021663    0.295959   0.0    0.0    0.00    0.00     6.40\n",
       "area  517.0   12.847292   63.655818   0.0    0.0    0.52    6.57  1090.84"
      ]
     },
     "execution_count": 5,
     "metadata": {},
     "output_type": "execute_result"
    }
   ],
   "source": [
    "data.describe().T # description of the numerical attributes"
   ]
  },
  {
   "cell_type": "code",
   "execution_count": 6,
   "metadata": {},
   "outputs": [
    {
     "data": {
      "text/html": [
       "<div>\n",
       "<style scoped>\n",
       "    .dataframe tbody tr th:only-of-type {\n",
       "        vertical-align: middle;\n",
       "    }\n",
       "\n",
       "    .dataframe tbody tr th {\n",
       "        vertical-align: top;\n",
       "    }\n",
       "\n",
       "    .dataframe thead th {\n",
       "        text-align: right;\n",
       "    }\n",
       "</style>\n",
       "<table border=\"1\" class=\"dataframe\">\n",
       "  <thead>\n",
       "    <tr style=\"text-align: right;\">\n",
       "      <th></th>\n",
       "      <th>count</th>\n",
       "      <th>unique</th>\n",
       "      <th>top</th>\n",
       "      <th>freq</th>\n",
       "    </tr>\n",
       "  </thead>\n",
       "  <tbody>\n",
       "    <tr>\n",
       "      <th>month</th>\n",
       "      <td>517</td>\n",
       "      <td>12</td>\n",
       "      <td>aug</td>\n",
       "      <td>184</td>\n",
       "    </tr>\n",
       "    <tr>\n",
       "      <th>day</th>\n",
       "      <td>517</td>\n",
       "      <td>7</td>\n",
       "      <td>sun</td>\n",
       "      <td>95</td>\n",
       "    </tr>\n",
       "  </tbody>\n",
       "</table>\n",
       "</div>"
      ],
      "text/plain": [
       "      count unique  top freq\n",
       "month   517     12  aug  184\n",
       "day     517      7  sun   95"
      ]
     },
     "execution_count": 6,
     "metadata": {},
     "output_type": "execute_result"
    }
   ],
   "source": [
    "data.describe(include = 'O').T # description of the object attributes"
   ]
  },
  {
   "cell_type": "markdown",
   "metadata": {},
   "source": [
    "We can see that:\n",
    "- The majority of rain values are zero\n",
    "- As mentioned in the project description, most area values seem to be around zero, and the distribution is skewed towards zero\n",
    "- There is a significant outlier in the area column that requires further investigation\n",
    "- Considering that the data is about forest fires, the most immediate relationship that comes to mind is with temperature. August is typically the hottest month, and consequently, it has the highest frequency of fire occurrences"
   ]
  },
  {
   "cell_type": "markdown",
   "metadata": {},
   "source": [
    "#### Column Types"
   ]
  },
  {
   "cell_type": "code",
   "execution_count": 7,
   "metadata": {},
   "outputs": [
    {
     "data": {
      "text/plain": [
       "X          int64\n",
       "Y          int64\n",
       "month     object\n",
       "day       object\n",
       "FFMC     float64\n",
       "DMC      float64\n",
       "DC       float64\n",
       "ISI      float64\n",
       "temp     float64\n",
       "RH         int64\n",
       "wind     float64\n",
       "rain     float64\n",
       "area     float64\n",
       "dtype: object"
      ]
     },
     "execution_count": 7,
     "metadata": {},
     "output_type": "execute_result"
    }
   ],
   "source": [
    "data.dtypes # seeing each column type"
   ]
  },
  {
   "cell_type": "markdown",
   "metadata": {},
   "source": [
    "We have 3 integer columns, 2 object columns, and 8 float columns "
   ]
  },
  {
   "cell_type": "markdown",
   "metadata": {},
   "source": [
    "### Removing Duplicates"
   ]
  },
  {
   "cell_type": "code",
   "execution_count": 8,
   "metadata": {},
   "outputs": [
    {
     "data": {
      "text/plain": [
       "4"
      ]
     },
     "execution_count": 8,
     "metadata": {},
     "output_type": "execute_result"
    }
   ],
   "source": [
    "data.duplicated().sum() # checking duplicates count"
   ]
  },
  {
   "cell_type": "code",
   "execution_count": 9,
   "metadata": {},
   "outputs": [],
   "source": [
    "data.drop_duplicates(inplace = True) # removing the duplicates"
   ]
  },
  {
   "cell_type": "markdown",
   "metadata": {},
   "source": [
    "### Handling Outliers / Skewness"
   ]
  },
  {
   "cell_type": "code",
   "execution_count": 10,
   "metadata": {},
   "outputs": [
    {
     "data": {
      "image/png": "[encoded data removed]",
      "text/plain": [
       "<Figure size 1200x500 with 1 Axes>"
      ]
     },
     "metadata": {},
     "output_type": "display_data"
    }
   ],
   "source": [
    "data.boxplot(figsize=(12, 5))\n",
    "plt.show()"
   ]
  },
  {
   "cell_type": "markdown",
   "metadata": {},
   "source": [
    "Based on the boxplot there's outliers using our eyes in:\n",
    "- FFMC\n",
    "- DMC\n",
    "- DC\n",
    "- ISI\n",
    "- RH\n",
    "- area"
   ]
  },
  {
   "cell_type": "markdown",
   "metadata": {},
   "source": [
    "#### Checking area"
   ]
  },
  {
   "cell_type": "code",
   "execution_count": 11,
   "metadata": {},
   "outputs": [
    {
     "data": {
      "image/png": "[encoded data removed]",
      "text/plain": [
       "<Figure size 640x480 with 1 Axes>"
      ]
     },
     "metadata": {},
     "output_type": "display_data"
    }
   ],
   "source": [
    "# Viewing a histogram before transformation\n",
    "plt.hist(data['area'], bins=20, edgecolor='black')\n",
    "plt.xlabel('Area')\n",
    "plt.ylabel('Frequency')\n",
    "plt.title('Histogram of Area')\n",
    "plt.show()"
   ]
  },
  {
   "cell_type": "code",
   "execution_count": 12,
   "metadata": {},
   "outputs": [],
   "source": [
    "# Applying the logarithmic function on area\n",
    "data['area'] = np.log(data['area'] + 1) # Logarithmic function was applied based on the project description"
   ]
  },
  {
   "cell_type": "code",
   "execution_count": 13,
   "metadata": {},
   "outputs": [
    {
     "data": {
      "image/png": "[encoded data removed]",
      "text/plain": [
       "<Figure size 640x480 with 1 Axes>"
      ]
     },
     "metadata": {},
     "output_type": "display_data"
    }
   ],
   "source": [
    "# Viewing a histogram after transformation\n",
    "plt.hist(data['area'], bins=20, edgecolor='black')\n",
    "plt.xlabel('Area')\n",
    "plt.ylabel('Frequency')\n",
    "plt.title('Histogram of Area')\n",
    "plt.show()"
   ]
  },
  {
   "cell_type": "markdown",
   "metadata": {},
   "source": [
    "#### Checking FFMC"
   ]
  },
  {
   "cell_type": "markdown",
   "metadata": {},
   "source": [
    "Based on my research about FFMC in portugal the min was 0 and the max was 100"
   ]
  },
  {
   "cell_type": "code",
   "execution_count": 14,
   "metadata": {},
   "outputs": [
    {
     "name": "stdout",
     "output_type": "stream",
     "text": [
      "18.7\n",
      "96.2\n"
     ]
    }
   ],
   "source": [
    "print(data['FFMC'].min())\n",
    "print(data['FFMC'].max())"
   ]
  },
  {
   "cell_type": "markdown",
   "metadata": {},
   "source": [
    "So no need to remove outliers in it"
   ]
  },
  {
   "cell_type": "markdown",
   "metadata": {},
   "source": [
    "#### Checking DMC"
   ]
  },
  {
   "cell_type": "markdown",
   "metadata": {},
   "source": [
    "Based on my research about DMC in portugal the min was 0 and the max was open ended"
   ]
  },
  {
   "cell_type": "code",
   "execution_count": 15,
   "metadata": {},
   "outputs": [
    {
     "name": "stdout",
     "output_type": "stream",
     "text": [
      "1.1\n",
      "291.3\n"
     ]
    }
   ],
   "source": [
    "print(data['DMC'].min())\n",
    "print(data['DMC'].max())"
   ]
  },
  {
   "cell_type": "markdown",
   "metadata": {},
   "source": [
    "So no need to remove outliers in it"
   ]
  },
  {
   "cell_type": "markdown",
   "metadata": {},
   "source": [
    "#### Checking DC"
   ]
  },
  {
   "cell_type": "markdown",
   "metadata": {},
   "source": [
    "Based on my research about DC in portugal the min was 0 and the max 80"
   ]
  },
  {
   "cell_type": "code",
   "execution_count": 16,
   "metadata": {},
   "outputs": [
    {
     "name": "stdout",
     "output_type": "stream",
     "text": [
      "7.9\n",
      "860.6\n"
     ]
    }
   ],
   "source": [
    "print(data['DC'].min())\n",
    "print(data['DC'].max())"
   ]
  },
  {
   "cell_type": "code",
   "execution_count": 17,
   "metadata": {},
   "outputs": [
    {
     "data": {
      "text/plain": [
       "462"
      ]
     },
     "execution_count": 17,
     "metadata": {},
     "output_type": "execute_result"
    }
   ],
   "source": [
    "len(data[data['DC'] > 80])"
   ]
  },
  {
   "cell_type": "code",
   "execution_count": 18,
   "metadata": {},
   "outputs": [
    {
     "data": {
      "image/png": "[encoded data removed]",
      "text/plain": [
       "<Figure size 640x480 with 1 Axes>"
      ]
     },
     "metadata": {},
     "output_type": "display_data"
    }
   ],
   "source": [
    "# Drawing a boxplot to check furthermore\n",
    "cols = ['DC']\n",
    "\n",
    "plt.boxplot(data[cols].values, labels=cols)\n",
    "plt.show()"
   ]
  },
  {
   "cell_type": "markdown",
   "metadata": {},
   "source": [
    "But based on the boxplot and the count of values in DMC above 80 are 462 then I will not remove it because I'm not sure of my refrences' values"
   ]
  },
  {
   "cell_type": "markdown",
   "metadata": {},
   "source": [
    "#### Checking ISI"
   ]
  },
  {
   "cell_type": "markdown",
   "metadata": {},
   "source": [
    "Based on my research about ISI in portugal the min was 0 and the max 60"
   ]
  },
  {
   "cell_type": "code",
   "execution_count": 19,
   "metadata": {},
   "outputs": [
    {
     "name": "stdout",
     "output_type": "stream",
     "text": [
      "0.0\n",
      "56.1\n"
     ]
    }
   ],
   "source": [
    "print(data['ISI'].min())\n",
    "print(data['ISI'].max())"
   ]
  },
  {
   "cell_type": "markdown",
   "metadata": {},
   "source": [
    "So no need to remove outliers in it"
   ]
  },
  {
   "cell_type": "markdown",
   "metadata": {},
   "source": [
    "#### Checking RH"
   ]
  },
  {
   "cell_type": "markdown",
   "metadata": {},
   "source": [
    "Based on my research about RH in portugal the min was 30% and the max 95%"
   ]
  },
  {
   "cell_type": "code",
   "execution_count": 20,
   "metadata": {},
   "outputs": [
    {
     "name": "stdout",
     "output_type": "stream",
     "text": [
      "15\n",
      "100\n"
     ]
    }
   ],
   "source": [
    "print(data['RH'].min())\n",
    "print(data['RH'].max())"
   ]
  },
  {
   "cell_type": "code",
   "execution_count": 21,
   "metadata": {},
   "outputs": [
    {
     "data": {
      "text/plain": [
       "106"
      ]
     },
     "execution_count": 21,
     "metadata": {},
     "output_type": "execute_result"
    }
   ],
   "source": [
    "len(data[(data['RH'] > 95) | (data['RH'] < 30)]) # Count of the values that will be removed"
   ]
  },
  {
   "cell_type": "code",
   "execution_count": 22,
   "metadata": {},
   "outputs": [
    {
     "data": {
      "image/png": "[encoded data removed]",
      "text/plain": [
       "<Figure size 640x480 with 1 Axes>"
      ]
     },
     "metadata": {},
     "output_type": "display_data"
    }
   ],
   "source": [
    "# Drawing a boxplot to check furthermore\n",
    "cols = ['RH']\n",
    "\n",
    "plt.boxplot(data[cols].values, labels=cols)\n",
    "plt.show()"
   ]
  },
  {
   "cell_type": "markdown",
   "metadata": {},
   "source": [
    "We will need to remove the values below 30 and above 95 since also its count is not that big and the range of values is in the same area of the boxplot"
   ]
  },
  {
   "cell_type": "code",
   "execution_count": 23,
   "metadata": {},
   "outputs": [],
   "source": [
    "data = data.loc[(data['RH'] <= 95) & (data['RH'] >= 30)]"
   ]
  },
  {
   "cell_type": "markdown",
   "metadata": {},
   "source": [
    "### Handling Nulls"
   ]
  },
  {
   "cell_type": "code",
   "execution_count": 24,
   "metadata": {},
   "outputs": [
    {
     "data": {
      "text/plain": [
       "X        0\n",
       "Y        0\n",
       "month    0\n",
       "day      0\n",
       "FFMC     0\n",
       "DMC      0\n",
       "DC       0\n",
       "ISI      0\n",
       "temp     0\n",
       "RH       0\n",
       "wind     0\n",
       "rain     0\n",
       "area     0\n",
       "dtype: int64"
      ]
     },
     "execution_count": 24,
     "metadata": {},
     "output_type": "execute_result"
    }
   ],
   "source": [
    "data.isnull().sum() # checking duplicates sum"
   ]
  },
  {
   "cell_type": "markdown",
   "metadata": {},
   "source": [
    "There are no Nulls"
   ]
  },
  {
   "cell_type": "markdown",
   "metadata": {},
   "source": [
    "## ANALYZE"
   ]
  },
  {
   "cell_type": "markdown",
   "metadata": {},
   "source": [
    "### Understanding the Variables More"
   ]
  },
  {
   "cell_type": "markdown",
   "metadata": {},
   "source": [
    "#### Variable Real Names\n",
    "- FFMC  ->  Fine Fuel Moisture Code, represents fuel moisture of forest litter fuels under the shade of a forest canopy\n",
    "- DMC   ->  Duff Moisture Code, represents fuel moisture of decomposed organic material underneath the litter\n",
    "- DC    ->  Drought Code, much like the Keetch-Byrum Drought Index, represents drying deep into the soil\n",
    "- ISI   ->  Initial Spread Index, is a numeric rating of the expected rate of fire spread"
   ]
  },
  {
   "cell_type": "markdown",
   "metadata": {},
   "source": [
    "#### Removing area with fires equal to 0 to correctly view the data"
   ]
  },
  {
   "cell_type": "code",
   "execution_count": 25,
   "metadata": {},
   "outputs": [],
   "source": [
    "# I wanted to see the damaged area only because that will make me understand how other variables affect on it\n",
    "dataviz = data[data['area']>0] "
   ]
  },
  {
   "cell_type": "markdown",
   "metadata": {},
   "source": [
    "#### Month"
   ]
  },
  {
   "cell_type": "code",
   "execution_count": 26,
   "metadata": {},
   "outputs": [
    {
     "data": {
      "image/png": "[encoded data removed]",
      "text/plain": [
       "<Figure size 640x480 with 1 Axes>"
      ]
     },
     "metadata": {},
     "output_type": "display_data"
    }
   ],
   "source": [
    "# Drawing a scatterplot to view the count of areas with fire per month\n",
    "plt.scatter(dataviz['month'], dataviz['area'], alpha=0.5)\n",
    "plt.xlabel('Month')\n",
    "plt.ylabel('Area')\n",
    "plt.grid(True)\n",
    "plt.show()"
   ]
  },
  {
   "cell_type": "code",
   "execution_count": 27,
   "metadata": {},
   "outputs": [
    {
     "data": {
      "text/plain": [
       "month\n",
       "aug    83\n",
       "sep    76\n",
       "mar    13\n",
       "jul    12\n",
       "feb    10\n",
       "jun     8\n",
       "apr     4\n",
       "oct     4\n",
       "dec     4\n",
       "may     1\n",
       "Name: count, dtype: int64"
      ]
     },
     "execution_count": 27,
     "metadata": {},
     "output_type": "execute_result"
    }
   ],
   "source": [
    "dataviz['month'].value_counts() # Count of areas with fires per month"
   ]
  },
  {
   "cell_type": "markdown",
   "metadata": {},
   "source": [
    "Since, august and september are the summer times.. it's logical that fire could happen during that time due to temprature"
   ]
  },
  {
   "cell_type": "markdown",
   "metadata": {},
   "source": [
    "#### Temprature"
   ]
  },
  {
   "cell_type": "code",
   "execution_count": 28,
   "metadata": {},
   "outputs": [
    {
     "data": {
      "image/png": "[encoded data removed]",
      "text/plain": [
       "<Figure size 640x480 with 1 Axes>"
      ]
     },
     "metadata": {},
     "output_type": "display_data"
    }
   ],
   "source": [
    "# Drawing a scatterplot to view the count of areas with fire per temprature\n",
    "plt.scatter(dataviz['temp'], dataviz['area'], alpha=0.5)\n",
    "plt.xlabel('Temprature')\n",
    "plt.ylabel('Area')\n",
    "plt.grid(True)\n",
    "plt.show()"
   ]
  },
  {
   "cell_type": "markdown",
   "metadata": {},
   "source": [
    "When the temprature rises the area of the fire also increases"
   ]
  },
  {
   "cell_type": "code",
   "execution_count": 29,
   "metadata": {},
   "outputs": [
    {
     "data": {
      "text/plain": [
       "temp\n",
       "21.9    5\n",
       "20.1    5\n",
       "20.7    4\n",
       "15.4    4\n",
       "19.1    4\n",
       "       ..\n",
       "22.4    1\n",
       "18.8    1\n",
       "16.1    1\n",
       "13.4    1\n",
       "27.8    1\n",
       "Name: count, Length: 125, dtype: int64"
      ]
     },
     "execution_count": 29,
     "metadata": {},
     "output_type": "execute_result"
    }
   ],
   "source": [
    "dataviz['temp'].value_counts() # Count of areas with fires per temp"
   ]
  },
  {
   "cell_type": "markdown",
   "metadata": {},
   "source": [
    "#### Rain"
   ]
  },
  {
   "cell_type": "code",
   "execution_count": 30,
   "metadata": {},
   "outputs": [
    {
     "data": {
      "image/png": "[encoded data removed]",
      "text/plain": [
       "<Figure size 640x480 with 1 Axes>"
      ]
     },
     "metadata": {},
     "output_type": "display_data"
    }
   ],
   "source": [
    "# Drawing a scatterplot to view the count of areas with fire per rain\n",
    "plt.scatter(dataviz['rain'], dataviz['area'], alpha=0.5)\n",
    "plt.xlabel('Rain')\n",
    "plt.ylabel('Area')\n",
    "plt.grid(True)\n",
    "plt.show()"
   ]
  },
  {
   "cell_type": "code",
   "execution_count": 31,
   "metadata": {},
   "outputs": [
    {
     "data": {
      "text/plain": [
       "rain\n",
       "0.0    99.069767\n",
       "6.4     0.465116\n",
       "1.4     0.465116\n",
       "Name: proportion, dtype: float64"
      ]
     },
     "execution_count": 31,
     "metadata": {},
     "output_type": "execute_result"
    }
   ],
   "source": [
    "dataviz['rain'].value_counts(normalize = True)*100 # seeing the percentage of rain to areas with fire"
   ]
  },
  {
   "cell_type": "markdown",
   "metadata": {},
   "source": [
    "As seen where no rain is available, there's a high possibility of fire by 99%"
   ]
  },
  {
   "cell_type": "markdown",
   "metadata": {},
   "source": [
    "### Enrichment"
   ]
  },
  {
   "cell_type": "markdown",
   "metadata": {},
   "source": [
    "#### Creating a new Season column based on the month"
   ]
  },
  {
   "cell_type": "code",
   "execution_count": 32,
   "metadata": {},
   "outputs": [],
   "source": [
    "# Adding a new fetaure like season can help the model understand better which seasons can contain more fire\n",
    "# since they have a strong relatioship with temprature and the month \n",
    "data['season'] = data['month'].apply(lambda x: 'Winter' if x in ['jan', 'feb', 'dec'] else\n",
    "                                      'Spring' if x in ['mar', 'apr', 'may'] else\n",
    "                                      'Summer' if x in ['jun', 'jul', 'aug'] else\n",
    "                                      'Fall' if x in ['sep', 'oct', 'nov'] else None)"
   ]
  },
  {
   "cell_type": "code",
   "execution_count": 33,
   "metadata": {},
   "outputs": [
    {
     "data": {
      "text/plain": [
       "season\n",
       "Summer    47.911548\n",
       "Fall      35.872236\n",
       "Spring    10.073710\n",
       "Winter     6.142506\n",
       "Name: proportion, dtype: float64"
      ]
     },
     "execution_count": 33,
     "metadata": {},
     "output_type": "execute_result"
    }
   ],
   "source": [
    "data['season'].value_counts(normalize = True)*100 # seeing the percentage of season to areas"
   ]
  },
  {
   "cell_type": "markdown",
   "metadata": {},
   "source": [
    "After removing the outliers there were no any month in winter or spring left"
   ]
  },
  {
   "cell_type": "markdown",
   "metadata": {},
   "source": [
    "### Encoding the Data for NN"
   ]
  },
  {
   "cell_type": "code",
   "execution_count": 34,
   "metadata": {},
   "outputs": [],
   "source": [
    "data = pd.get_dummies(data, columns=['month', 'day', 'season']) # encoding the month, day, and season"
   ]
  },
  {
   "cell_type": "code",
   "execution_count": 35,
   "metadata": {},
   "outputs": [],
   "source": [
    "data = data.astype(int) # Transforming the values from True/False to 1/0"
   ]
  },
  {
   "cell_type": "code",
   "execution_count": 36,
   "metadata": {},
   "outputs": [
    {
     "data": {
      "text/html": [
       "<div>\n",
       "<style scoped>\n",
       "    .dataframe tbody tr th:only-of-type {\n",
       "        vertical-align: middle;\n",
       "    }\n",
       "\n",
       "    .dataframe tbody tr th {\n",
       "        vertical-align: top;\n",
       "    }\n",
       "\n",
       "    .dataframe thead th {\n",
       "        text-align: right;\n",
       "    }\n",
       "</style>\n",
       "<table border=\"1\" class=\"dataframe\">\n",
       "  <thead>\n",
       "    <tr style=\"text-align: right;\">\n",
       "      <th></th>\n",
       "      <th>X</th>\n",
       "      <th>Y</th>\n",
       "      <th>FFMC</th>\n",
       "      <th>DMC</th>\n",
       "      <th>DC</th>\n",
       "      <th>ISI</th>\n",
       "      <th>temp</th>\n",
       "      <th>RH</th>\n",
       "      <th>wind</th>\n",
       "      <th>rain</th>\n",
       "      <th>...</th>\n",
       "      <th>day_mon</th>\n",
       "      <th>day_sat</th>\n",
       "      <th>day_sun</th>\n",
       "      <th>day_thu</th>\n",
       "      <th>day_tue</th>\n",
       "      <th>day_wed</th>\n",
       "      <th>season_Fall</th>\n",
       "      <th>season_Spring</th>\n",
       "      <th>season_Summer</th>\n",
       "      <th>season_Winter</th>\n",
       "    </tr>\n",
       "  </thead>\n",
       "  <tbody>\n",
       "    <tr>\n",
       "      <th>0</th>\n",
       "      <td>7</td>\n",
       "      <td>5</td>\n",
       "      <td>86</td>\n",
       "      <td>26</td>\n",
       "      <td>94</td>\n",
       "      <td>5</td>\n",
       "      <td>8</td>\n",
       "      <td>51</td>\n",
       "      <td>6</td>\n",
       "      <td>0</td>\n",
       "      <td>...</td>\n",
       "      <td>0</td>\n",
       "      <td>0</td>\n",
       "      <td>0</td>\n",
       "      <td>0</td>\n",
       "      <td>0</td>\n",
       "      <td>0</td>\n",
       "      <td>0</td>\n",
       "      <td>1</td>\n",
       "      <td>0</td>\n",
       "      <td>0</td>\n",
       "    </tr>\n",
       "    <tr>\n",
       "      <th>1</th>\n",
       "      <td>7</td>\n",
       "      <td>4</td>\n",
       "      <td>90</td>\n",
       "      <td>35</td>\n",
       "      <td>669</td>\n",
       "      <td>6</td>\n",
       "      <td>18</td>\n",
       "      <td>33</td>\n",
       "      <td>0</td>\n",
       "      <td>0</td>\n",
       "      <td>...</td>\n",
       "      <td>0</td>\n",
       "      <td>0</td>\n",
       "      <td>0</td>\n",
       "      <td>0</td>\n",
       "      <td>1</td>\n",
       "      <td>0</td>\n",
       "      <td>1</td>\n",
       "      <td>0</td>\n",
       "      <td>0</td>\n",
       "      <td>0</td>\n",
       "    </tr>\n",
       "    <tr>\n",
       "      <th>2</th>\n",
       "      <td>7</td>\n",
       "      <td>4</td>\n",
       "      <td>90</td>\n",
       "      <td>43</td>\n",
       "      <td>686</td>\n",
       "      <td>6</td>\n",
       "      <td>14</td>\n",
       "      <td>33</td>\n",
       "      <td>1</td>\n",
       "      <td>0</td>\n",
       "      <td>...</td>\n",
       "      <td>0</td>\n",
       "      <td>1</td>\n",
       "      <td>0</td>\n",
       "      <td>0</td>\n",
       "      <td>0</td>\n",
       "      <td>0</td>\n",
       "      <td>1</td>\n",
       "      <td>0</td>\n",
       "      <td>0</td>\n",
       "      <td>0</td>\n",
       "    </tr>\n",
       "    <tr>\n",
       "      <th>7</th>\n",
       "      <td>8</td>\n",
       "      <td>6</td>\n",
       "      <td>91</td>\n",
       "      <td>145</td>\n",
       "      <td>608</td>\n",
       "      <td>10</td>\n",
       "      <td>8</td>\n",
       "      <td>86</td>\n",
       "      <td>2</td>\n",
       "      <td>0</td>\n",
       "      <td>...</td>\n",
       "      <td>1</td>\n",
       "      <td>0</td>\n",
       "      <td>0</td>\n",
       "      <td>0</td>\n",
       "      <td>0</td>\n",
       "      <td>0</td>\n",
       "      <td>0</td>\n",
       "      <td>0</td>\n",
       "      <td>1</td>\n",
       "      <td>0</td>\n",
       "    </tr>\n",
       "    <tr>\n",
       "      <th>8</th>\n",
       "      <td>8</td>\n",
       "      <td>6</td>\n",
       "      <td>91</td>\n",
       "      <td>129</td>\n",
       "      <td>692</td>\n",
       "      <td>7</td>\n",
       "      <td>13</td>\n",
       "      <td>63</td>\n",
       "      <td>5</td>\n",
       "      <td>0</td>\n",
       "      <td>...</td>\n",
       "      <td>0</td>\n",
       "      <td>0</td>\n",
       "      <td>0</td>\n",
       "      <td>0</td>\n",
       "      <td>1</td>\n",
       "      <td>0</td>\n",
       "      <td>1</td>\n",
       "      <td>0</td>\n",
       "      <td>0</td>\n",
       "      <td>0</td>\n",
       "    </tr>\n",
       "  </tbody>\n",
       "</table>\n",
       "<p>5 rows × 34 columns</p>\n",
       "</div>"
      ],
      "text/plain": [
       "   X  Y  FFMC  DMC   DC  ISI  temp  RH  wind  rain  ...  day_mon  day_sat   \n",
       "0  7  5    86   26   94    5     8  51     6     0  ...        0        0  \\\n",
       "1  7  4    90   35  669    6    18  33     0     0  ...        0        0   \n",
       "2  7  4    90   43  686    6    14  33     1     0  ...        0        1   \n",
       "7  8  6    91  145  608   10     8  86     2     0  ...        1        0   \n",
       "8  8  6    91  129  692    7    13  63     5     0  ...        0        0   \n",
       "\n",
       "   day_sun  day_thu  day_tue  day_wed  season_Fall  season_Spring   \n",
       "0        0        0        0        0            0              1  \\\n",
       "1        0        0        1        0            1              0   \n",
       "2        0        0        0        0            1              0   \n",
       "7        0        0        0        0            0              0   \n",
       "8        0        0        1        0            1              0   \n",
       "\n",
       "   season_Summer  season_Winter  \n",
       "0              0              0  \n",
       "1              0              0  \n",
       "2              0              0  \n",
       "7              1              0  \n",
       "8              0              0  \n",
       "\n",
       "[5 rows x 34 columns]"
      ]
     },
     "execution_count": 36,
     "metadata": {},
     "output_type": "execute_result"
    }
   ],
   "source": [
    "data.head() # viewing the data after encoding"
   ]
  },
  {
   "cell_type": "markdown",
   "metadata": {},
   "source": [
    "## NEURAL NETWORK"
   ]
  },
  {
   "cell_type": "markdown",
   "metadata": {},
   "source": [
    "### Features"
   ]
  },
  {
   "cell_type": "code",
   "execution_count": 37,
   "metadata": {},
   "outputs": [],
   "source": [
    "x = data.drop('area', axis=1) # as per the domain knowledge in the ask phase, all features are important"
   ]
  },
  {
   "cell_type": "markdown",
   "metadata": {},
   "source": [
    "### Target"
   ]
  },
  {
   "cell_type": "code",
   "execution_count": 38,
   "metadata": {},
   "outputs": [],
   "source": [
    "y = data['area'] # extracting the target attribute "
   ]
  },
  {
   "cell_type": "markdown",
   "metadata": {},
   "source": [
    "### Splitting the Dataset"
   ]
  },
  {
   "cell_type": "code",
   "execution_count": 39,
   "metadata": {},
   "outputs": [],
   "source": [
    "# Splitting the data to 70% training and 30% testing\n",
    "x_train, x_test, y_train, y_test = train_test_split(x, y, test_size=0.3, random_state=1) "
   ]
  },
  {
   "cell_type": "markdown",
   "metadata": {},
   "source": [
    "### Normalizing"
   ]
  },
  {
   "cell_type": "code",
   "execution_count": 40,
   "metadata": {},
   "outputs": [],
   "source": [
    "# Using standard scaler to normalize the x train and x test\n",
    "scaler = StandardScaler()\n",
    "\n",
    "x_train = scaler.fit_transform(x_train)\n",
    "x_test = scaler.transform(x_test)"
   ]
  },
  {
   "cell_type": "markdown",
   "metadata": {},
   "source": [
    "### Model"
   ]
  },
  {
   "cell_type": "code",
   "execution_count": 41,
   "metadata": {},
   "outputs": [
    {
     "data": {
      "text/plain": [
       "(284, 33)"
      ]
     },
     "execution_count": 41,
     "metadata": {},
     "output_type": "execute_result"
    }
   ],
   "source": [
    "x_train.shape"
   ]
  },
  {
   "cell_type": "code",
   "execution_count": 42,
   "metadata": {},
   "outputs": [],
   "source": [
    "# Deploying the model with 4 hidden layers\n",
    "model = Sequential([\n",
    "    Dense(24, activation='relu', input_shape=(x_train.shape[1],)), # Input layer are 24 based on my fetaures \n",
    "    Dropout(0.2), # I used a dropout value of 0.2 to prevent overfitting\n",
    "    Dense(250, activation='relu'), # I started by 250 neuron and started to decrease them by the 2/3 rule and i used the relu as an activation function\n",
    "    Dense(166, activation='relu'), # 2nd hidden layer\n",
    "    Dense(110, activation='relu'), # 3rd hidden layer\n",
    "    Dense(73, activation='relu'), # 4th hidden layer\n",
    "    Dense(1)  # Output layer which is one since the area is continious\n",
    "])"
   ]
  },
  {
   "cell_type": "code",
   "execution_count": 43,
   "metadata": {},
   "outputs": [
    {
     "name": "stdout",
     "output_type": "stream",
     "text": [
      "Epoch 1/500\n",
      "9/9 [==============================] - 3s 6ms/step - loss: 1.5088 - accuracy: 0.4261\n",
      "Epoch 2/500\n",
      "9/9 [==============================] - 0s 5ms/step - loss: 1.3352 - accuracy: 0.2782\n",
      "Epoch 3/500\n",
      "9/9 [==============================] - 0s 5ms/step - loss: 1.2839 - accuracy: 0.2958\n",
      "Epoch 4/500\n",
      "9/9 [==============================] - 0s 6ms/step - loss: 1.1872 - accuracy: 0.2782\n",
      "Epoch 5/500\n",
      "9/9 [==============================] - 0s 5ms/step - loss: 1.2274 - accuracy: 0.4085\n",
      "Epoch 6/500\n",
      "9/9 [==============================] - 0s 5ms/step - loss: 1.1782 - accuracy: 0.2676\n",
      "Epoch 7/500\n",
      "9/9 [==============================] - 0s 6ms/step - loss: 1.1713 - accuracy: 0.3732\n",
      "Epoch 8/500\n",
      "1/9 [==>...........................] - ETA: 0s - loss: 1.2454 - accuracy: 0.3438"
     ]
    },
    {
     "name": "stdout",
     "output_type": "stream",
     "text": [
      "9/9 [==============================] - 0s 6ms/step - loss: 1.1436 - accuracy: 0.3486\n",
      "Epoch 9/500\n",
      "9/9 [==============================] - 0s 6ms/step - loss: 1.1464 - accuracy: 0.3521\n",
      "Epoch 10/500\n",
      "9/9 [==============================] - 0s 5ms/step - loss: 1.0676 - accuracy: 0.3662\n",
      "Epoch 11/500\n",
      "9/9 [==============================] - 0s 6ms/step - loss: 1.1842 - accuracy: 0.3275\n",
      "Epoch 12/500\n",
      "9/9 [==============================] - 0s 5ms/step - loss: 1.1081 - accuracy: 0.3908\n",
      "Epoch 13/500\n",
      "9/9 [==============================] - 0s 6ms/step - loss: 1.0679 - accuracy: 0.3380\n",
      "Epoch 14/500\n",
      "9/9 [==============================] - 0s 6ms/step - loss: 1.0904 - accuracy: 0.4155\n",
      "Epoch 15/500\n",
      "9/9 [==============================] - 0s 6ms/step - loss: 1.0357 - accuracy: 0.3345\n",
      "Epoch 16/500\n",
      "9/9 [==============================] - 0s 6ms/step - loss: 1.0717 - accuracy: 0.4577\n",
      "Epoch 17/500\n",
      "9/9 [==============================] - 0s 6ms/step - loss: 1.0269 - accuracy: 0.3627\n",
      "Epoch 18/500\n",
      "9/9 [==============================] - 0s 5ms/step - loss: 1.0696 - accuracy: 0.4401\n",
      "Epoch 19/500\n",
      "9/9 [==============================] - 0s 6ms/step - loss: 0.9167 - accuracy: 0.4331\n",
      "Epoch 20/500\n",
      "9/9 [==============================] - 0s 6ms/step - loss: 0.9280 - accuracy: 0.4190\n",
      "Epoch 21/500\n",
      "9/9 [==============================] - 0s 6ms/step - loss: 0.9183 - accuracy: 0.4577\n",
      "Epoch 22/500\n",
      "9/9 [==============================] - 0s 6ms/step - loss: 0.9919 - accuracy: 0.4261\n",
      "Epoch 23/500\n",
      "9/9 [==============================] - 0s 6ms/step - loss: 0.9495 - accuracy: 0.4225\n",
      "Epoch 24/500\n",
      "9/9 [==============================] - 0s 6ms/step - loss: 0.9162 - accuracy: 0.4648\n",
      "Epoch 25/500\n",
      "9/9 [==============================] - 0s 6ms/step - loss: 0.9130 - accuracy: 0.4718\n",
      "Epoch 26/500\n",
      "9/9 [==============================] - 0s 6ms/step - loss: 0.8514 - accuracy: 0.4613\n",
      "Epoch 27/500\n",
      "9/9 [==============================] - 0s 6ms/step - loss: 0.9058 - accuracy: 0.4261\n",
      "Epoch 28/500\n",
      "9/9 [==============================] - 0s 6ms/step - loss: 0.8600 - accuracy: 0.4894\n",
      "Epoch 29/500\n",
      "9/9 [==============================] - 0s 7ms/step - loss: 0.8515 - accuracy: 0.4296\n",
      "Epoch 30/500\n",
      "9/9 [==============================] - 0s 6ms/step - loss: 0.7827 - accuracy: 0.4507\n",
      "Epoch 31/500\n",
      "9/9 [==============================] - 0s 6ms/step - loss: 0.8382 - accuracy: 0.4754\n",
      "Epoch 32/500\n",
      "9/9 [==============================] - 0s 6ms/step - loss: 0.7309 - accuracy: 0.4648\n",
      "Epoch 33/500\n",
      "9/9 [==============================] - 0s 6ms/step - loss: 0.8308 - accuracy: 0.4577\n",
      "Epoch 34/500\n",
      "9/9 [==============================] - 0s 6ms/step - loss: 0.7149 - accuracy: 0.4965\n",
      "Epoch 35/500\n",
      "9/9 [==============================] - 0s 6ms/step - loss: 0.7066 - accuracy: 0.4754\n",
      "Epoch 36/500\n",
      "9/9 [==============================] - 0s 5ms/step - loss: 0.7893 - accuracy: 0.4930\n",
      "Epoch 37/500\n",
      "9/9 [==============================] - 0s 6ms/step - loss: 0.7662 - accuracy: 0.5493\n",
      "Epoch 38/500\n",
      "9/9 [==============================] - 0s 6ms/step - loss: 0.7675 - accuracy: 0.4648\n",
      "Epoch 39/500\n",
      "9/9 [==============================] - 0s 7ms/step - loss: 0.7812 - accuracy: 0.5282\n",
      "Epoch 40/500\n",
      "9/9 [==============================] - 0s 6ms/step - loss: 0.6877 - accuracy: 0.5317\n",
      "Epoch 41/500\n",
      "9/9 [==============================] - 0s 6ms/step - loss: 0.6861 - accuracy: 0.5106\n",
      "Epoch 42/500\n",
      "9/9 [==============================] - 0s 6ms/step - loss: 0.7386 - accuracy: 0.5000\n",
      "Epoch 43/500\n",
      "9/9 [==============================] - 0s 6ms/step - loss: 0.7067 - accuracy: 0.5141\n",
      "Epoch 44/500\n",
      "9/9 [==============================] - 0s 7ms/step - loss: 0.7157 - accuracy: 0.4683\n",
      "Epoch 45/500\n",
      "9/9 [==============================] - 0s 6ms/step - loss: 0.6848 - accuracy: 0.5246\n",
      "Epoch 46/500\n",
      "9/9 [==============================] - 0s 6ms/step - loss: 0.6462 - accuracy: 0.5070\n",
      "Epoch 47/500\n",
      "9/9 [==============================] - 0s 6ms/step - loss: 0.6486 - accuracy: 0.5211\n",
      "Epoch 48/500\n",
      "9/9 [==============================] - 0s 6ms/step - loss: 0.6663 - accuracy: 0.5352\n",
      "Epoch 49/500\n",
      "9/9 [==============================] - 0s 6ms/step - loss: 0.6458 - accuracy: 0.4965\n",
      "Epoch 50/500\n",
      "9/9 [==============================] - 0s 6ms/step - loss: 0.6137 - accuracy: 0.5739\n",
      "Epoch 51/500\n",
      "9/9 [==============================] - 0s 7ms/step - loss: 0.5736 - accuracy: 0.5423\n",
      "Epoch 52/500\n",
      "9/9 [==============================] - 0s 6ms/step - loss: 0.6340 - accuracy: 0.5563\n",
      "Epoch 53/500\n",
      "9/9 [==============================] - 0s 6ms/step - loss: 0.5805 - accuracy: 0.5528\n",
      "Epoch 54/500\n",
      "9/9 [==============================] - 0s 6ms/step - loss: 0.6078 - accuracy: 0.5704\n",
      "Epoch 55/500\n",
      "9/9 [==============================] - 0s 6ms/step - loss: 0.5603 - accuracy: 0.5493\n",
      "Epoch 56/500\n",
      "9/9 [==============================] - 0s 6ms/step - loss: 0.5959 - accuracy: 0.5704\n",
      "Epoch 57/500\n",
      "9/9 [==============================] - 0s 6ms/step - loss: 0.6139 - accuracy: 0.5387\n",
      "Epoch 58/500\n",
      "9/9 [==============================] - 0s 7ms/step - loss: 0.6065 - accuracy: 0.5317\n",
      "Epoch 59/500\n",
      "9/9 [==============================] - 0s 6ms/step - loss: 0.6006 - accuracy: 0.5282\n",
      "Epoch 60/500\n",
      "9/9 [==============================] - 0s 6ms/step - loss: 0.6160 - accuracy: 0.5634\n",
      "Epoch 61/500\n",
      "9/9 [==============================] - 0s 6ms/step - loss: 0.5679 - accuracy: 0.5387\n",
      "Epoch 62/500\n",
      "9/9 [==============================] - 0s 6ms/step - loss: 0.5265 - accuracy: 0.5528\n",
      "Epoch 63/500\n",
      "9/9 [==============================] - 0s 6ms/step - loss: 0.5729 - accuracy: 0.5387\n",
      "Epoch 64/500\n",
      "9/9 [==============================] - 0s 5ms/step - loss: 0.5419 - accuracy: 0.5563\n",
      "Epoch 65/500\n",
      "9/9 [==============================] - 0s 6ms/step - loss: 0.5980 - accuracy: 0.5599\n",
      "Epoch 66/500\n",
      "9/9 [==============================] - 0s 6ms/step - loss: 0.5519 - accuracy: 0.5810\n",
      "Epoch 67/500\n",
      "9/9 [==============================] - 0s 6ms/step - loss: 0.5507 - accuracy: 0.5563\n",
      "Epoch 68/500\n",
      "9/9 [==============================] - 0s 6ms/step - loss: 0.4835 - accuracy: 0.5528\n",
      "Epoch 69/500\n",
      "9/9 [==============================] - 0s 6ms/step - loss: 0.5068 - accuracy: 0.5775\n",
      "Epoch 70/500\n",
      "9/9 [==============================] - 0s 5ms/step - loss: 0.5434 - accuracy: 0.5845\n",
      "Epoch 71/500\n",
      "9/9 [==============================] - 0s 6ms/step - loss: 0.5613 - accuracy: 0.5352\n",
      "Epoch 72/500\n",
      "9/9 [==============================] - 0s 6ms/step - loss: 0.5147 - accuracy: 0.5704\n",
      "Epoch 73/500\n",
      "9/9 [==============================] - 0s 6ms/step - loss: 0.4221 - accuracy: 0.5810\n",
      "Epoch 74/500\n",
      "9/9 [==============================] - 0s 6ms/step - loss: 0.5180 - accuracy: 0.5845\n",
      "Epoch 75/500\n",
      "9/9 [==============================] - 0s 6ms/step - loss: 0.4630 - accuracy: 0.5669\n",
      "Epoch 76/500\n",
      "9/9 [==============================] - 0s 5ms/step - loss: 0.4809 - accuracy: 0.6056\n",
      "Epoch 77/500\n",
      "9/9 [==============================] - 0s 6ms/step - loss: 0.6102 - accuracy: 0.5387\n",
      "Epoch 78/500\n",
      "9/9 [==============================] - 0s 6ms/step - loss: 0.5583 - accuracy: 0.5810\n",
      "Epoch 79/500\n",
      "9/9 [==============================] - 0s 7ms/step - loss: 0.4931 - accuracy: 0.5739\n",
      "Epoch 80/500\n",
      "9/9 [==============================] - 0s 6ms/step - loss: 0.4931 - accuracy: 0.5352\n",
      "Epoch 81/500\n",
      "9/9 [==============================] - 0s 6ms/step - loss: 0.4448 - accuracy: 0.6408\n",
      "Epoch 82/500\n",
      "9/9 [==============================] - 0s 6ms/step - loss: 0.4578 - accuracy: 0.5880\n",
      "Epoch 83/500\n",
      "9/9 [==============================] - 0s 6ms/step - loss: 0.5760 - accuracy: 0.5775\n",
      "Epoch 84/500\n",
      "9/9 [==============================] - 0s 6ms/step - loss: 0.5019 - accuracy: 0.5915\n",
      "Epoch 85/500\n",
      "9/9 [==============================] - 0s 8ms/step - loss: 0.5150 - accuracy: 0.5986\n",
      "Epoch 86/500\n",
      "9/9 [==============================] - 0s 9ms/step - loss: 0.4203 - accuracy: 0.6303\n",
      "Epoch 87/500\n",
      "9/9 [==============================] - 0s 6ms/step - loss: 0.3952 - accuracy: 0.5986\n",
      "Epoch 88/500\n",
      "9/9 [==============================] - 0s 6ms/step - loss: 0.4526 - accuracy: 0.5810\n",
      "Epoch 89/500\n",
      "9/9 [==============================] - 0s 6ms/step - loss: 0.4711 - accuracy: 0.6162\n",
      "Epoch 90/500\n",
      "9/9 [==============================] - 0s 6ms/step - loss: 0.3767 - accuracy: 0.6268\n",
      "Epoch 91/500\n",
      "9/9 [==============================] - 0s 6ms/step - loss: 0.4521 - accuracy: 0.5845\n",
      "Epoch 92/500\n",
      "9/9 [==============================] - 0s 6ms/step - loss: 0.4185 - accuracy: 0.6338\n",
      "Epoch 93/500\n",
      "9/9 [==============================] - 0s 6ms/step - loss: 0.4267 - accuracy: 0.6056\n",
      "Epoch 94/500\n",
      "9/9 [==============================] - 0s 7ms/step - loss: 0.4426 - accuracy: 0.5915\n",
      "Epoch 95/500\n",
      "9/9 [==============================] - 0s 6ms/step - loss: 0.4296 - accuracy: 0.6268\n",
      "Epoch 96/500\n",
      "9/9 [==============================] - 0s 7ms/step - loss: 0.3810 - accuracy: 0.6162\n",
      "Epoch 97/500\n",
      "9/9 [==============================] - 0s 6ms/step - loss: 0.3731 - accuracy: 0.6373\n",
      "Epoch 98/500\n",
      "9/9 [==============================] - 0s 6ms/step - loss: 0.4648 - accuracy: 0.5986\n",
      "Epoch 99/500\n",
      "9/9 [==============================] - 0s 6ms/step - loss: 0.4755 - accuracy: 0.6127\n",
      "Epoch 100/500\n",
      "9/9 [==============================] - 0s 9ms/step - loss: 0.4541 - accuracy: 0.6197\n",
      "Epoch 101/500\n",
      "9/9 [==============================] - 0s 7ms/step - loss: 0.4604 - accuracy: 0.6127\n",
      "Epoch 102/500\n",
      "9/9 [==============================] - 0s 7ms/step - loss: 0.4327 - accuracy: 0.6232\n",
      "Epoch 103/500\n",
      "9/9 [==============================] - 0s 8ms/step - loss: 0.3749 - accuracy: 0.5810\n",
      "Epoch 104/500\n",
      "9/9 [==============================] - 0s 6ms/step - loss: 0.4442 - accuracy: 0.5951\n",
      "Epoch 105/500\n",
      "9/9 [==============================] - 0s 6ms/step - loss: 0.3910 - accuracy: 0.6197\n",
      "Epoch 106/500\n",
      "9/9 [==============================] - 0s 7ms/step - loss: 0.4193 - accuracy: 0.6092\n",
      "Epoch 107/500\n",
      "9/9 [==============================] - 0s 7ms/step - loss: 0.3944 - accuracy: 0.5845\n",
      "Epoch 108/500\n",
      "9/9 [==============================] - 0s 8ms/step - loss: 0.3955 - accuracy: 0.6021\n",
      "Epoch 109/500\n",
      "9/9 [==============================] - 0s 7ms/step - loss: 0.3630 - accuracy: 0.6690\n",
      "Epoch 110/500\n",
      "9/9 [==============================] - 0s 6ms/step - loss: 0.4169 - accuracy: 0.6127\n",
      "Epoch 111/500\n",
      "9/9 [==============================] - 0s 6ms/step - loss: 0.4142 - accuracy: 0.5951\n",
      "Epoch 112/500\n",
      "9/9 [==============================] - 0s 6ms/step - loss: 0.4474 - accuracy: 0.5951\n",
      "Epoch 113/500\n",
      "9/9 [==============================] - 0s 6ms/step - loss: 0.4146 - accuracy: 0.6268\n",
      "Epoch 114/500\n",
      "9/9 [==============================] - 0s 6ms/step - loss: 0.4002 - accuracy: 0.6162\n",
      "Epoch 115/500\n",
      "9/9 [==============================] - 0s 7ms/step - loss: 0.3491 - accuracy: 0.6549\n",
      "Epoch 116/500\n",
      "9/9 [==============================] - 0s 6ms/step - loss: 0.4526 - accuracy: 0.6408\n",
      "Epoch 117/500\n",
      "9/9 [==============================] - 0s 6ms/step - loss: 0.4181 - accuracy: 0.6162\n",
      "Epoch 118/500\n",
      "9/9 [==============================] - 0s 5ms/step - loss: 0.4370 - accuracy: 0.6303\n",
      "Epoch 119/500\n",
      "9/9 [==============================] - 0s 5ms/step - loss: 0.3473 - accuracy: 0.6197\n",
      "Epoch 120/500\n",
      "9/9 [==============================] - 0s 6ms/step - loss: 0.4366 - accuracy: 0.5986\n",
      "Epoch 121/500\n",
      "9/9 [==============================] - 0s 6ms/step - loss: 0.3035 - accuracy: 0.6268\n",
      "Epoch 122/500\n",
      "9/9 [==============================] - 0s 9ms/step - loss: 0.3730 - accuracy: 0.6268\n",
      "Epoch 123/500\n",
      "9/9 [==============================] - 0s 7ms/step - loss: 0.3582 - accuracy: 0.6444\n",
      "Epoch 124/500\n",
      "9/9 [==============================] - 0s 7ms/step - loss: 0.3996 - accuracy: 0.6197\n",
      "Epoch 125/500\n",
      "9/9 [==============================] - 0s 6ms/step - loss: 0.4338 - accuracy: 0.6162\n",
      "Epoch 126/500\n",
      "9/9 [==============================] - 0s 6ms/step - loss: 0.3018 - accuracy: 0.6408\n",
      "Epoch 127/500\n",
      "9/9 [==============================] - 0s 6ms/step - loss: 0.3118 - accuracy: 0.6021\n",
      "Epoch 128/500\n",
      "9/9 [==============================] - 0s 10ms/step - loss: 0.3322 - accuracy: 0.6092\n",
      "Epoch 129/500\n",
      "9/9 [==============================] - 0s 8ms/step - loss: 0.3992 - accuracy: 0.6408\n",
      "Epoch 130/500\n",
      "9/9 [==============================] - 0s 6ms/step - loss: 0.3990 - accuracy: 0.6690\n",
      "Epoch 131/500\n",
      "9/9 [==============================] - 0s 6ms/step - loss: 0.3493 - accuracy: 0.6197\n",
      "Epoch 132/500\n",
      "9/9 [==============================] - 0s 5ms/step - loss: 0.3741 - accuracy: 0.6655\n",
      "Epoch 133/500\n",
      "9/9 [==============================] - 0s 6ms/step - loss: 0.3770 - accuracy: 0.6408\n",
      "Epoch 134/500\n",
      "9/9 [==============================] - 0s 6ms/step - loss: 0.2935 - accuracy: 0.6585\n",
      "Epoch 135/500\n",
      "9/9 [==============================] - 0s 6ms/step - loss: 0.3380 - accuracy: 0.6479\n",
      "Epoch 136/500\n",
      "9/9 [==============================] - 0s 6ms/step - loss: 0.3534 - accuracy: 0.6444\n",
      "Epoch 137/500\n",
      "9/9 [==============================] - 0s 5ms/step - loss: 0.3851 - accuracy: 0.6021\n",
      "Epoch 138/500\n",
      "9/9 [==============================] - 0s 6ms/step - loss: 0.3455 - accuracy: 0.6197\n",
      "Epoch 139/500\n",
      "9/9 [==============================] - 0s 6ms/step - loss: 0.3185 - accuracy: 0.6585\n",
      "Epoch 140/500\n",
      "9/9 [==============================] - 0s 6ms/step - loss: 0.4341 - accuracy: 0.6197\n",
      "Epoch 141/500\n",
      "9/9 [==============================] - 0s 6ms/step - loss: 0.3796 - accuracy: 0.6690\n",
      "Epoch 142/500\n",
      "9/9 [==============================] - 0s 6ms/step - loss: 0.3321 - accuracy: 0.6549\n",
      "Epoch 143/500\n",
      "9/9 [==============================] - 0s 6ms/step - loss: 0.2692 - accuracy: 0.6655\n",
      "Epoch 144/500\n",
      "9/9 [==============================] - 0s 6ms/step - loss: 0.3168 - accuracy: 0.6232\n",
      "Epoch 145/500\n",
      "9/9 [==============================] - 0s 6ms/step - loss: 0.2925 - accuracy: 0.6479\n",
      "Epoch 146/500\n",
      "9/9 [==============================] - 0s 6ms/step - loss: 0.3755 - accuracy: 0.6444\n",
      "Epoch 147/500\n",
      "9/9 [==============================] - 0s 6ms/step - loss: 0.3294 - accuracy: 0.6338\n",
      "Epoch 148/500\n",
      "9/9 [==============================] - 0s 6ms/step - loss: 0.3385 - accuracy: 0.6796\n",
      "Epoch 149/500\n",
      "9/9 [==============================] - 0s 7ms/step - loss: 0.3562 - accuracy: 0.6479\n",
      "Epoch 150/500\n",
      "9/9 [==============================] - 0s 11ms/step - loss: 0.2860 - accuracy: 0.6655\n",
      "Epoch 151/500\n",
      "9/9 [==============================] - 0s 9ms/step - loss: 0.3832 - accuracy: 0.6092\n",
      "Epoch 152/500\n",
      "9/9 [==============================] - 0s 6ms/step - loss: 0.4644 - accuracy: 0.6338\n",
      "Epoch 153/500\n",
      "9/9 [==============================] - 0s 7ms/step - loss: 0.2904 - accuracy: 0.6444\n",
      "Epoch 154/500\n",
      "9/9 [==============================] - 0s 6ms/step - loss: 0.3136 - accuracy: 0.6585\n",
      "Epoch 155/500\n",
      "9/9 [==============================] - 0s 6ms/step - loss: 0.3997 - accuracy: 0.6620\n",
      "Epoch 156/500\n",
      "9/9 [==============================] - 0s 6ms/step - loss: 0.2970 - accuracy: 0.6549\n",
      "Epoch 157/500\n",
      "9/9 [==============================] - 0s 6ms/step - loss: 0.2966 - accuracy: 0.6373\n",
      "Epoch 158/500\n",
      "9/9 [==============================] - 0s 6ms/step - loss: 0.3296 - accuracy: 0.6479\n",
      "Epoch 159/500\n",
      "9/9 [==============================] - 0s 6ms/step - loss: 0.3395 - accuracy: 0.6127\n",
      "Epoch 160/500\n",
      "9/9 [==============================] - 0s 6ms/step - loss: 0.2866 - accuracy: 0.6585\n",
      "Epoch 161/500\n",
      "9/9 [==============================] - 0s 6ms/step - loss: 0.2673 - accuracy: 0.6408\n",
      "Epoch 162/500\n",
      "9/9 [==============================] - 0s 6ms/step - loss: 0.2690 - accuracy: 0.6655\n",
      "Epoch 163/500\n",
      "9/9 [==============================] - 0s 6ms/step - loss: 0.2997 - accuracy: 0.6725\n",
      "Epoch 164/500\n",
      "9/9 [==============================] - 0s 6ms/step - loss: 0.2579 - accuracy: 0.6831\n",
      "Epoch 165/500\n",
      "9/9 [==============================] - 0s 6ms/step - loss: 0.2818 - accuracy: 0.6725\n",
      "Epoch 166/500\n",
      "9/9 [==============================] - 0s 5ms/step - loss: 0.3529 - accuracy: 0.6585\n",
      "Epoch 167/500\n",
      "9/9 [==============================] - 0s 5ms/step - loss: 0.2653 - accuracy: 0.6408\n",
      "Epoch 168/500\n",
      "9/9 [==============================] - 0s 6ms/step - loss: 0.2767 - accuracy: 0.6408\n",
      "Epoch 169/500\n",
      "9/9 [==============================] - 0s 10ms/step - loss: 0.3636 - accuracy: 0.6549\n",
      "Epoch 170/500\n",
      "9/9 [==============================] - 0s 6ms/step - loss: 0.3256 - accuracy: 0.6444\n",
      "Epoch 171/500\n",
      "9/9 [==============================] - 0s 11ms/step - loss: 0.2721 - accuracy: 0.6725\n",
      "Epoch 172/500\n",
      "9/9 [==============================] - 0s 8ms/step - loss: 0.2479 - accuracy: 0.6479\n",
      "Epoch 173/500\n",
      "9/9 [==============================] - 0s 7ms/step - loss: 0.2886 - accuracy: 0.6690\n",
      "Epoch 174/500\n",
      "9/9 [==============================] - 0s 6ms/step - loss: 0.2690 - accuracy: 0.6514\n",
      "Epoch 175/500\n",
      "9/9 [==============================] - 0s 5ms/step - loss: 0.3058 - accuracy: 0.6479\n",
      "Epoch 176/500\n",
      "9/9 [==============================] - 0s 6ms/step - loss: 0.3183 - accuracy: 0.6655\n",
      "Epoch 177/500\n",
      "9/9 [==============================] - 0s 6ms/step - loss: 0.3418 - accuracy: 0.6479\n",
      "Epoch 178/500\n",
      "9/9 [==============================] - 0s 6ms/step - loss: 0.2324 - accuracy: 0.6725\n",
      "Epoch 179/500\n",
      "9/9 [==============================] - 0s 5ms/step - loss: 0.3280 - accuracy: 0.6725\n",
      "Epoch 180/500\n",
      "9/9 [==============================] - 0s 5ms/step - loss: 0.2835 - accuracy: 0.6725\n",
      "Epoch 181/500\n",
      "9/9 [==============================] - 0s 6ms/step - loss: 0.2943 - accuracy: 0.6585\n",
      "Epoch 182/500\n",
      "9/9 [==============================] - 0s 6ms/step - loss: 0.2813 - accuracy: 0.6549\n",
      "Epoch 183/500\n",
      "9/9 [==============================] - 0s 6ms/step - loss: 0.2866 - accuracy: 0.6725\n",
      "Epoch 184/500\n",
      "9/9 [==============================] - 0s 6ms/step - loss: 0.2409 - accuracy: 0.6620\n",
      "Epoch 185/500\n",
      "9/9 [==============================] - 0s 7ms/step - loss: 0.2710 - accuracy: 0.6585\n",
      "Epoch 186/500\n",
      "9/9 [==============================] - 0s 6ms/step - loss: 0.3303 - accuracy: 0.6585\n",
      "Epoch 187/500\n",
      "9/9 [==============================] - 0s 6ms/step - loss: 0.2907 - accuracy: 0.6620\n",
      "Epoch 188/500\n",
      "9/9 [==============================] - 0s 7ms/step - loss: 0.2920 - accuracy: 0.6690\n",
      "Epoch 189/500\n",
      "9/9 [==============================] - 0s 7ms/step - loss: 0.2986 - accuracy: 0.6620\n",
      "Epoch 190/500\n",
      "9/9 [==============================] - 0s 7ms/step - loss: 0.2517 - accuracy: 0.7077\n",
      "Epoch 191/500\n",
      "9/9 [==============================] - 0s 8ms/step - loss: 0.2360 - accuracy: 0.7007\n",
      "Epoch 192/500\n",
      "9/9 [==============================] - 0s 12ms/step - loss: 0.3165 - accuracy: 0.6585\n",
      "Epoch 193/500\n",
      "9/9 [==============================] - 0s 10ms/step - loss: 0.2411 - accuracy: 0.6796\n",
      "Epoch 194/500\n",
      "9/9 [==============================] - 0s 7ms/step - loss: 0.2420 - accuracy: 0.6725\n",
      "Epoch 195/500\n",
      "9/9 [==============================] - 0s 8ms/step - loss: 0.2469 - accuracy: 0.6690\n",
      "Epoch 196/500\n",
      "9/9 [==============================] - 0s 6ms/step - loss: 0.3032 - accuracy: 0.6514\n",
      "Epoch 197/500\n",
      "9/9 [==============================] - 0s 7ms/step - loss: 0.2993 - accuracy: 0.6866\n",
      "Epoch 198/500\n",
      "9/9 [==============================] - 0s 7ms/step - loss: 0.3060 - accuracy: 0.6725\n",
      "Epoch 199/500\n",
      "9/9 [==============================] - 0s 6ms/step - loss: 0.3114 - accuracy: 0.6655\n",
      "Epoch 200/500\n",
      "9/9 [==============================] - 0s 7ms/step - loss: 0.2353 - accuracy: 0.6937\n",
      "Epoch 201/500\n",
      "9/9 [==============================] - 0s 8ms/step - loss: 0.3371 - accuracy: 0.6620\n",
      "Epoch 202/500\n",
      "9/9 [==============================] - 0s 7ms/step - loss: 0.2285 - accuracy: 0.6725\n",
      "Epoch 203/500\n",
      "9/9 [==============================] - 0s 6ms/step - loss: 0.1996 - accuracy: 0.6549\n",
      "Epoch 204/500\n",
      "9/9 [==============================] - 0s 7ms/step - loss: 0.2744 - accuracy: 0.6514\n",
      "Epoch 205/500\n",
      "9/9 [==============================] - 0s 7ms/step - loss: 0.2414 - accuracy: 0.6972\n",
      "Epoch 206/500\n",
      "9/9 [==============================] - 0s 7ms/step - loss: 0.2422 - accuracy: 0.6937\n",
      "Epoch 207/500\n",
      "9/9 [==============================] - 0s 8ms/step - loss: 0.2555 - accuracy: 0.7042\n",
      "Epoch 208/500\n",
      "9/9 [==============================] - 0s 11ms/step - loss: 0.2103 - accuracy: 0.6831\n",
      "Epoch 209/500\n",
      "9/9 [==============================] - 0s 8ms/step - loss: 0.1908 - accuracy: 0.6690\n",
      "Epoch 210/500\n",
      "9/9 [==============================] - 0s 6ms/step - loss: 0.2424 - accuracy: 0.6408\n",
      "Epoch 211/500\n",
      "9/9 [==============================] - 0s 6ms/step - loss: 0.2596 - accuracy: 0.7077\n",
      "Epoch 212/500\n",
      "9/9 [==============================] - 0s 8ms/step - loss: 0.2439 - accuracy: 0.6866\n",
      "Epoch 213/500\n",
      "9/9 [==============================] - 0s 6ms/step - loss: 0.3386 - accuracy: 0.6655\n",
      "Epoch 214/500\n",
      "9/9 [==============================] - 0s 7ms/step - loss: 0.2676 - accuracy: 0.6373\n",
      "Epoch 215/500\n",
      "9/9 [==============================] - 0s 7ms/step - loss: 0.2804 - accuracy: 0.6725\n",
      "Epoch 216/500\n",
      "9/9 [==============================] - 0s 6ms/step - loss: 0.2292 - accuracy: 0.6620\n",
      "Epoch 217/500\n",
      "9/9 [==============================] - 0s 7ms/step - loss: 0.1971 - accuracy: 0.7077\n",
      "Epoch 218/500\n",
      "9/9 [==============================] - 0s 6ms/step - loss: 0.2155 - accuracy: 0.6725\n",
      "Epoch 219/500\n",
      "9/9 [==============================] - 0s 5ms/step - loss: 0.2551 - accuracy: 0.6866\n",
      "Epoch 220/500\n",
      "9/9 [==============================] - 0s 6ms/step - loss: 0.1855 - accuracy: 0.6972\n",
      "Epoch 221/500\n",
      "9/9 [==============================] - 0s 6ms/step - loss: 0.1878 - accuracy: 0.6655\n",
      "Epoch 222/500\n",
      "9/9 [==============================] - 0s 6ms/step - loss: 0.2131 - accuracy: 0.6620\n",
      "Epoch 223/500\n",
      "9/9 [==============================] - 0s 5ms/step - loss: 0.2237 - accuracy: 0.6549\n",
      "Epoch 224/500\n",
      "9/9 [==============================] - 0s 5ms/step - loss: 0.2213 - accuracy: 0.6831\n",
      "Epoch 225/500\n",
      "9/9 [==============================] - 0s 6ms/step - loss: 0.2202 - accuracy: 0.6761\n",
      "Epoch 226/500\n",
      "9/9 [==============================] - 0s 6ms/step - loss: 0.2638 - accuracy: 0.6831\n",
      "Epoch 227/500\n",
      "9/9 [==============================] - 0s 6ms/step - loss: 0.2158 - accuracy: 0.6937\n",
      "Epoch 228/500\n",
      "9/9 [==============================] - 0s 6ms/step - loss: 0.2016 - accuracy: 0.6901\n",
      "Epoch 229/500\n",
      "9/9 [==============================] - 0s 6ms/step - loss: 0.2166 - accuracy: 0.6831\n",
      "Epoch 230/500\n",
      "9/9 [==============================] - 0s 6ms/step - loss: 0.2113 - accuracy: 0.6620\n",
      "Epoch 231/500\n",
      "9/9 [==============================] - 0s 6ms/step - loss: 0.2353 - accuracy: 0.6761\n",
      "Epoch 232/500\n",
      "9/9 [==============================] - 0s 6ms/step - loss: 0.2320 - accuracy: 0.7007\n",
      "Epoch 233/500\n",
      "9/9 [==============================] - 0s 12ms/step - loss: 0.2390 - accuracy: 0.6725\n",
      "Epoch 234/500\n",
      "9/9 [==============================] - 0s 7ms/step - loss: 0.1983 - accuracy: 0.6725\n",
      "Epoch 235/500\n",
      "9/9 [==============================] - 0s 6ms/step - loss: 0.2191 - accuracy: 0.6901\n",
      "Epoch 236/500\n",
      "9/9 [==============================] - 0s 6ms/step - loss: 0.2203 - accuracy: 0.6831\n",
      "Epoch 237/500\n",
      "9/9 [==============================] - 0s 6ms/step - loss: 0.1954 - accuracy: 0.6620\n",
      "Epoch 238/500\n",
      "9/9 [==============================] - 0s 7ms/step - loss: 0.2469 - accuracy: 0.6972\n",
      "Epoch 239/500\n",
      "9/9 [==============================] - 0s 6ms/step - loss: 0.1805 - accuracy: 0.6901\n",
      "Epoch 240/500\n",
      "9/9 [==============================] - 0s 6ms/step - loss: 0.1594 - accuracy: 0.7077\n",
      "Epoch 241/500\n",
      "9/9 [==============================] - 0s 6ms/step - loss: 0.1447 - accuracy: 0.7042\n",
      "Epoch 242/500\n",
      "9/9 [==============================] - 0s 6ms/step - loss: 0.2389 - accuracy: 0.6866\n",
      "Epoch 243/500\n",
      "9/9 [==============================] - 0s 6ms/step - loss: 0.2224 - accuracy: 0.6901\n",
      "Epoch 244/500\n",
      "9/9 [==============================] - 0s 9ms/step - loss: 0.1669 - accuracy: 0.6549\n",
      "Epoch 245/500\n",
      "9/9 [==============================] - 0s 7ms/step - loss: 0.2244 - accuracy: 0.6901\n",
      "Epoch 246/500\n",
      "9/9 [==============================] - 0s 8ms/step - loss: 0.2675 - accuracy: 0.6585\n",
      "Epoch 247/500\n",
      "9/9 [==============================] - 0s 7ms/step - loss: 0.2741 - accuracy: 0.6655\n",
      "Epoch 248/500\n",
      "9/9 [==============================] - 0s 7ms/step - loss: 0.2356 - accuracy: 0.6796\n",
      "Epoch 249/500\n",
      "9/9 [==============================] - 0s 6ms/step - loss: 0.2118 - accuracy: 0.6761\n",
      "Epoch 250/500\n",
      "9/9 [==============================] - 0s 6ms/step - loss: 0.2129 - accuracy: 0.6901\n",
      "Epoch 251/500\n",
      "9/9 [==============================] - 0s 6ms/step - loss: 0.2178 - accuracy: 0.6866\n",
      "Epoch 252/500\n",
      "9/9 [==============================] - 0s 11ms/step - loss: 0.2343 - accuracy: 0.6761\n",
      "Epoch 253/500\n",
      "9/9 [==============================] - 0s 10ms/step - loss: 0.1771 - accuracy: 0.6901\n",
      "Epoch 254/500\n",
      "9/9 [==============================] - 0s 6ms/step - loss: 0.1876 - accuracy: 0.6866\n",
      "Epoch 255/500\n",
      "9/9 [==============================] - 0s 6ms/step - loss: 0.2334 - accuracy: 0.6937\n",
      "Epoch 256/500\n",
      "9/9 [==============================] - 0s 6ms/step - loss: 0.2062 - accuracy: 0.7007\n",
      "Epoch 257/500\n",
      "9/9 [==============================] - 0s 7ms/step - loss: 0.2125 - accuracy: 0.7042\n",
      "Epoch 258/500\n",
      "9/9 [==============================] - 0s 6ms/step - loss: 0.2010 - accuracy: 0.6937\n",
      "Epoch 259/500\n",
      "9/9 [==============================] - 0s 6ms/step - loss: 0.2706 - accuracy: 0.6937\n",
      "Epoch 260/500\n",
      "9/9 [==============================] - 0s 6ms/step - loss: 0.2086 - accuracy: 0.7007\n",
      "Epoch 261/500\n",
      "9/9 [==============================] - 0s 6ms/step - loss: 0.2415 - accuracy: 0.6549\n",
      "Epoch 262/500\n",
      "9/9 [==============================] - 0s 5ms/step - loss: 0.2244 - accuracy: 0.6831\n",
      "Epoch 263/500\n",
      "9/9 [==============================] - 0s 6ms/step - loss: 0.1798 - accuracy: 0.6901\n",
      "Epoch 264/500\n",
      "9/9 [==============================] - 0s 6ms/step - loss: 0.1765 - accuracy: 0.7007\n",
      "Epoch 265/500\n",
      "9/9 [==============================] - 0s 6ms/step - loss: 0.2078 - accuracy: 0.6901\n",
      "Epoch 266/500\n",
      "9/9 [==============================] - 0s 6ms/step - loss: 0.1840 - accuracy: 0.6972\n",
      "Epoch 267/500\n",
      "9/9 [==============================] - 0s 6ms/step - loss: 0.2110 - accuracy: 0.6937\n",
      "Epoch 268/500\n",
      "9/9 [==============================] - 0s 6ms/step - loss: 0.2426 - accuracy: 0.7007\n",
      "Epoch 269/500\n",
      "9/9 [==============================] - 0s 6ms/step - loss: 0.2299 - accuracy: 0.6549\n",
      "Epoch 270/500\n",
      "9/9 [==============================] - 0s 6ms/step - loss: 0.1982 - accuracy: 0.7042\n",
      "Epoch 271/500\n",
      "9/9 [==============================] - 0s 6ms/step - loss: 0.2300 - accuracy: 0.6901\n",
      "Epoch 272/500\n",
      "9/9 [==============================] - 0s 14ms/step - loss: 0.1845 - accuracy: 0.6831\n",
      "Epoch 273/500\n",
      "9/9 [==============================] - 0s 6ms/step - loss: 0.1866 - accuracy: 0.6972\n",
      "Epoch 274/500\n",
      "9/9 [==============================] - 0s 6ms/step - loss: 0.2057 - accuracy: 0.6866\n",
      "Epoch 275/500\n",
      "9/9 [==============================] - 0s 12ms/step - loss: 0.1523 - accuracy: 0.6831\n",
      "Epoch 276/500\n",
      "9/9 [==============================] - 0s 8ms/step - loss: 0.1521 - accuracy: 0.6972\n",
      "Epoch 277/500\n",
      "9/9 [==============================] - 0s 7ms/step - loss: 0.2011 - accuracy: 0.6761\n",
      "Epoch 278/500\n",
      "9/9 [==============================] - 0s 6ms/step - loss: 0.1995 - accuracy: 0.7007\n",
      "Epoch 279/500\n",
      "9/9 [==============================] - 0s 6ms/step - loss: 0.1395 - accuracy: 0.7148\n",
      "Epoch 280/500\n",
      "9/9 [==============================] - 0s 6ms/step - loss: 0.1651 - accuracy: 0.7042\n",
      "Epoch 281/500\n",
      "9/9 [==============================] - 0s 6ms/step - loss: 0.2019 - accuracy: 0.7042\n",
      "Epoch 282/500\n",
      "9/9 [==============================] - 0s 5ms/step - loss: 0.1501 - accuracy: 0.6972\n",
      "Epoch 283/500\n",
      "9/9 [==============================] - 0s 6ms/step - loss: 0.2195 - accuracy: 0.6866\n",
      "Epoch 284/500\n",
      "9/9 [==============================] - 0s 6ms/step - loss: 0.1992 - accuracy: 0.7183\n",
      "Epoch 285/500\n",
      "9/9 [==============================] - 0s 6ms/step - loss: 0.2057 - accuracy: 0.7042\n",
      "Epoch 286/500\n",
      "9/9 [==============================] - 0s 6ms/step - loss: 0.1676 - accuracy: 0.6901\n",
      "Epoch 287/500\n",
      "9/9 [==============================] - 0s 6ms/step - loss: 0.2021 - accuracy: 0.6866\n",
      "Epoch 288/500\n",
      "9/9 [==============================] - 0s 6ms/step - loss: 0.1647 - accuracy: 0.6972\n",
      "Epoch 289/500\n",
      "9/9 [==============================] - 0s 6ms/step - loss: 0.1892 - accuracy: 0.6761\n",
      "Epoch 290/500\n",
      "9/9 [==============================] - 0s 6ms/step - loss: 0.1857 - accuracy: 0.6901\n",
      "Epoch 291/500\n",
      "9/9 [==============================] - 0s 12ms/step - loss: 0.2609 - accuracy: 0.6831\n",
      "Epoch 292/500\n",
      "9/9 [==============================] - 0s 7ms/step - loss: 0.2347 - accuracy: 0.6831\n",
      "Epoch 293/500\n",
      "9/9 [==============================] - 0s 6ms/step - loss: 0.1497 - accuracy: 0.7042\n",
      "Epoch 294/500\n",
      "9/9 [==============================] - 0s 6ms/step - loss: 0.1555 - accuracy: 0.7113\n",
      "Epoch 295/500\n",
      "9/9 [==============================] - 0s 6ms/step - loss: 0.1818 - accuracy: 0.7113\n",
      "Epoch 296/500\n",
      "9/9 [==============================] - 0s 6ms/step - loss: 0.1510 - accuracy: 0.7148\n",
      "Epoch 297/500\n",
      "9/9 [==============================] - 0s 6ms/step - loss: 0.1908 - accuracy: 0.6937\n",
      "Epoch 298/500\n",
      "9/9 [==============================] - 0s 6ms/step - loss: 0.2049 - accuracy: 0.6937\n",
      "Epoch 299/500\n",
      "9/9 [==============================] - 0s 6ms/step - loss: 0.1629 - accuracy: 0.6831\n",
      "Epoch 300/500\n",
      "9/9 [==============================] - 0s 6ms/step - loss: 0.1896 - accuracy: 0.6901\n",
      "Epoch 301/500\n",
      "9/9 [==============================] - 0s 6ms/step - loss: 0.2077 - accuracy: 0.6901\n",
      "Epoch 302/500\n",
      "9/9 [==============================] - 0s 6ms/step - loss: 0.2250 - accuracy: 0.6901\n",
      "Epoch 303/500\n",
      "9/9 [==============================] - 0s 6ms/step - loss: 0.2008 - accuracy: 0.6585\n",
      "Epoch 304/500\n",
      "9/9 [==============================] - 0s 5ms/step - loss: 0.2304 - accuracy: 0.6866\n",
      "Epoch 305/500\n",
      "9/9 [==============================] - 0s 6ms/step - loss: 0.1504 - accuracy: 0.6972\n",
      "Epoch 306/500\n",
      "9/9 [==============================] - 0s 6ms/step - loss: 0.1979 - accuracy: 0.7042\n",
      "Epoch 307/500\n",
      "9/9 [==============================] - 0s 6ms/step - loss: 0.1692 - accuracy: 0.6972\n",
      "Epoch 308/500\n",
      "9/9 [==============================] - 0s 6ms/step - loss: 0.1918 - accuracy: 0.6972\n",
      "Epoch 309/500\n",
      "9/9 [==============================] - 0s 11ms/step - loss: 0.1732 - accuracy: 0.7148\n",
      "Epoch 310/500\n",
      "9/9 [==============================] - 0s 9ms/step - loss: 0.1954 - accuracy: 0.6690\n",
      "Epoch 311/500\n",
      "9/9 [==============================] - 0s 7ms/step - loss: 0.1501 - accuracy: 0.6725\n",
      "Epoch 312/500\n",
      "9/9 [==============================] - 0s 7ms/step - loss: 0.1721 - accuracy: 0.6972\n",
      "Epoch 313/500\n",
      "9/9 [==============================] - 0s 6ms/step - loss: 0.1821 - accuracy: 0.6901\n",
      "Epoch 314/500\n",
      "9/9 [==============================] - 0s 6ms/step - loss: 0.1987 - accuracy: 0.7077\n",
      "Epoch 315/500\n",
      "9/9 [==============================] - 0s 6ms/step - loss: 0.1429 - accuracy: 0.6901\n",
      "Epoch 316/500\n",
      "9/9 [==============================] - 0s 5ms/step - loss: 0.1689 - accuracy: 0.6972\n",
      "Epoch 317/500\n",
      "9/9 [==============================] - 0s 6ms/step - loss: 0.2123 - accuracy: 0.7042\n",
      "Epoch 318/500\n",
      "9/9 [==============================] - 0s 6ms/step - loss: 0.1687 - accuracy: 0.7113\n",
      "Epoch 319/500\n",
      "9/9 [==============================] - 0s 6ms/step - loss: 0.1723 - accuracy: 0.7042\n",
      "Epoch 320/500\n",
      "9/9 [==============================] - 0s 6ms/step - loss: 0.1742 - accuracy: 0.7113\n",
      "Epoch 321/500\n",
      "9/9 [==============================] - 0s 6ms/step - loss: 0.1856 - accuracy: 0.7042\n",
      "Epoch 322/500\n",
      "9/9 [==============================] - 0s 6ms/step - loss: 0.1900 - accuracy: 0.7007\n",
      "Epoch 323/500\n",
      "9/9 [==============================] - 0s 6ms/step - loss: 0.1461 - accuracy: 0.7042\n",
      "Epoch 324/500\n",
      "9/9 [==============================] - 0s 6ms/step - loss: 0.1216 - accuracy: 0.6972\n",
      "Epoch 325/500\n",
      "9/9 [==============================] - 0s 6ms/step - loss: 0.1337 - accuracy: 0.6866\n",
      "Epoch 326/500\n",
      "9/9 [==============================] - 0s 6ms/step - loss: 0.1106 - accuracy: 0.7148\n",
      "Epoch 327/500\n",
      "9/9 [==============================] - 0s 6ms/step - loss: 0.1475 - accuracy: 0.7113\n",
      "Epoch 328/500\n",
      "9/9 [==============================] - 0s 7ms/step - loss: 0.2177 - accuracy: 0.7077\n",
      "Epoch 329/500\n",
      "9/9 [==============================] - 0s 7ms/step - loss: 0.1794 - accuracy: 0.6866\n",
      "Epoch 330/500\n",
      "9/9 [==============================] - 0s 7ms/step - loss: 0.1917 - accuracy: 0.7077\n",
      "Epoch 331/500\n",
      "9/9 [==============================] - 0s 6ms/step - loss: 0.1962 - accuracy: 0.7042\n",
      "Epoch 332/500\n",
      "9/9 [==============================] - 0s 6ms/step - loss: 0.1705 - accuracy: 0.7042\n",
      "Epoch 333/500\n",
      "9/9 [==============================] - 0s 6ms/step - loss: 0.1829 - accuracy: 0.7113\n",
      "Epoch 334/500\n",
      "9/9 [==============================] - 0s 6ms/step - loss: 0.1742 - accuracy: 0.6972\n",
      "Epoch 335/500\n",
      "9/9 [==============================] - 0s 6ms/step - loss: 0.1210 - accuracy: 0.7113\n",
      "Epoch 336/500\n",
      "9/9 [==============================] - 0s 5ms/step - loss: 0.1368 - accuracy: 0.7077\n",
      "Epoch 337/500\n",
      "9/9 [==============================] - 0s 6ms/step - loss: 0.1654 - accuracy: 0.7077\n",
      "Epoch 338/500\n",
      "9/9 [==============================] - 0s 6ms/step - loss: 0.1697 - accuracy: 0.6866\n",
      "Epoch 339/500\n",
      "9/9 [==============================] - 0s 6ms/step - loss: 0.1822 - accuracy: 0.7148\n",
      "Epoch 340/500\n",
      "9/9 [==============================] - 0s 6ms/step - loss: 0.1556 - accuracy: 0.6972\n",
      "Epoch 341/500\n",
      "9/9 [==============================] - 0s 6ms/step - loss: 0.1787 - accuracy: 0.7113\n",
      "Epoch 342/500\n",
      "9/9 [==============================] - 0s 6ms/step - loss: 0.1604 - accuracy: 0.7042\n",
      "Epoch 343/500\n",
      "9/9 [==============================] - 0s 6ms/step - loss: 0.1645 - accuracy: 0.7007\n",
      "Epoch 344/500\n",
      "9/9 [==============================] - 0s 7ms/step - loss: 0.1216 - accuracy: 0.7148\n",
      "Epoch 345/500\n",
      "9/9 [==============================] - 0s 6ms/step - loss: 0.1275 - accuracy: 0.7077\n",
      "Epoch 346/500\n",
      "9/9 [==============================] - 0s 5ms/step - loss: 0.1329 - accuracy: 0.7077\n",
      "Epoch 347/500\n",
      "9/9 [==============================] - 0s 6ms/step - loss: 0.1631 - accuracy: 0.7218\n",
      "Epoch 348/500\n",
      "9/9 [==============================] - 0s 6ms/step - loss: 0.2773 - accuracy: 0.7042\n",
      "Epoch 349/500\n",
      "9/9 [==============================] - 0s 5ms/step - loss: 0.1399 - accuracy: 0.7007\n",
      "Epoch 350/500\n",
      "9/9 [==============================] - 0s 11ms/step - loss: 0.1443 - accuracy: 0.7042\n",
      "Epoch 351/500\n",
      "9/9 [==============================] - 0s 6ms/step - loss: 0.1274 - accuracy: 0.7113\n",
      "Epoch 352/500\n",
      "9/9 [==============================] - 0s 11ms/step - loss: 0.1440 - accuracy: 0.7042\n",
      "Epoch 353/500\n",
      "9/9 [==============================] - 0s 8ms/step - loss: 0.2221 - accuracy: 0.7148\n",
      "Epoch 354/500\n",
      "9/9 [==============================] - 0s 6ms/step - loss: 0.1265 - accuracy: 0.7254\n",
      "Epoch 355/500\n",
      "9/9 [==============================] - 0s 6ms/step - loss: 0.1580 - accuracy: 0.7148\n",
      "Epoch 356/500\n",
      "9/9 [==============================] - 0s 6ms/step - loss: 0.1291 - accuracy: 0.7077\n",
      "Epoch 357/500\n",
      "9/9 [==============================] - 0s 6ms/step - loss: 0.1155 - accuracy: 0.7148\n",
      "Epoch 358/500\n",
      "9/9 [==============================] - 0s 6ms/step - loss: 0.0854 - accuracy: 0.7148\n",
      "Epoch 359/500\n",
      "9/9 [==============================] - 0s 6ms/step - loss: 0.1537 - accuracy: 0.7007\n",
      "Epoch 360/500\n",
      "9/9 [==============================] - 0s 6ms/step - loss: 0.1731 - accuracy: 0.6796\n",
      "Epoch 361/500\n",
      "9/9 [==============================] - 0s 6ms/step - loss: 0.1454 - accuracy: 0.7148\n",
      "Epoch 362/500\n",
      "9/9 [==============================] - 0s 6ms/step - loss: 0.2157 - accuracy: 0.7148\n",
      "Epoch 363/500\n",
      "9/9 [==============================] - 0s 6ms/step - loss: 0.1551 - accuracy: 0.6937\n",
      "Epoch 364/500\n",
      "9/9 [==============================] - 0s 6ms/step - loss: 0.1333 - accuracy: 0.7042\n",
      "Epoch 365/500\n",
      "9/9 [==============================] - 0s 6ms/step - loss: 0.1338 - accuracy: 0.7042\n",
      "Epoch 366/500\n",
      "9/9 [==============================] - 0s 6ms/step - loss: 0.1455 - accuracy: 0.7007\n",
      "Epoch 367/500\n",
      "9/9 [==============================] - 0s 15ms/step - loss: 0.1892 - accuracy: 0.6972\n",
      "Epoch 368/500\n",
      "9/9 [==============================] - 0s 6ms/step - loss: 0.2030 - accuracy: 0.6901\n",
      "Epoch 369/500\n",
      "9/9 [==============================] - 0s 6ms/step - loss: 0.1362 - accuracy: 0.7183\n",
      "Epoch 370/500\n",
      "9/9 [==============================] - 0s 6ms/step - loss: 0.1480 - accuracy: 0.6761\n",
      "Epoch 371/500\n",
      "9/9 [==============================] - 0s 6ms/step - loss: 0.1346 - accuracy: 0.7077\n",
      "Epoch 372/500\n",
      "9/9 [==============================] - 0s 5ms/step - loss: 0.1424 - accuracy: 0.7183\n",
      "Epoch 373/500\n",
      "9/9 [==============================] - 0s 6ms/step - loss: 0.1958 - accuracy: 0.7042\n",
      "Epoch 374/500\n",
      "9/9 [==============================] - 0s 6ms/step - loss: 0.1601 - accuracy: 0.7007\n",
      "Epoch 375/500\n",
      "9/9 [==============================] - 0s 7ms/step - loss: 0.1755 - accuracy: 0.7113\n",
      "Epoch 376/500\n",
      "9/9 [==============================] - 0s 8ms/step - loss: 0.1370 - accuracy: 0.7007\n",
      "Epoch 377/500\n",
      "9/9 [==============================] - 0s 6ms/step - loss: 0.1945 - accuracy: 0.7042\n",
      "Epoch 378/500\n",
      "9/9 [==============================] - 0s 6ms/step - loss: 0.1577 - accuracy: 0.7148\n",
      "Epoch 379/500\n",
      "9/9 [==============================] - 0s 6ms/step - loss: 0.1602 - accuracy: 0.7077\n",
      "Epoch 380/500\n",
      "9/9 [==============================] - 0s 6ms/step - loss: 0.1108 - accuracy: 0.7324\n",
      "Epoch 381/500\n",
      "9/9 [==============================] - 0s 6ms/step - loss: 0.1995 - accuracy: 0.6972\n",
      "Epoch 382/500\n",
      "9/9 [==============================] - 0s 6ms/step - loss: 0.1532 - accuracy: 0.6866\n",
      "Epoch 383/500\n",
      "9/9 [==============================] - 0s 6ms/step - loss: 0.1527 - accuracy: 0.7148\n",
      "Epoch 384/500\n",
      "9/9 [==============================] - 0s 6ms/step - loss: 0.1755 - accuracy: 0.7113\n",
      "Epoch 385/500\n",
      "9/9 [==============================] - 0s 6ms/step - loss: 0.1958 - accuracy: 0.6972\n",
      "Epoch 386/500\n",
      "9/9 [==============================] - 0s 6ms/step - loss: 0.0877 - accuracy: 0.7289\n",
      "Epoch 387/500\n",
      "9/9 [==============================] - 0s 14ms/step - loss: 0.1765 - accuracy: 0.7183\n",
      "Epoch 388/500\n",
      "9/9 [==============================] - 0s 8ms/step - loss: 0.1880 - accuracy: 0.7042\n",
      "Epoch 389/500\n",
      "9/9 [==============================] - 0s 7ms/step - loss: 0.1675 - accuracy: 0.7113\n",
      "Epoch 390/500\n",
      "9/9 [==============================] - 0s 7ms/step - loss: 0.1739 - accuracy: 0.7042\n",
      "Epoch 391/500\n",
      "9/9 [==============================] - 0s 6ms/step - loss: 0.1665 - accuracy: 0.7148\n",
      "Epoch 392/500\n",
      "9/9 [==============================] - 0s 6ms/step - loss: 0.1133 - accuracy: 0.7113\n",
      "Epoch 393/500\n",
      "9/9 [==============================] - 0s 6ms/step - loss: 0.1604 - accuracy: 0.7148\n",
      "Epoch 394/500\n",
      "9/9 [==============================] - 0s 6ms/step - loss: 0.1634 - accuracy: 0.6972\n",
      "Epoch 395/500\n",
      "9/9 [==============================] - 0s 6ms/step - loss: 0.2121 - accuracy: 0.7148\n",
      "Epoch 396/500\n",
      "9/9 [==============================] - 0s 6ms/step - loss: 0.2266 - accuracy: 0.7113\n",
      "Epoch 397/500\n",
      "9/9 [==============================] - 0s 6ms/step - loss: 0.1497 - accuracy: 0.6972\n",
      "Epoch 398/500\n",
      "9/9 [==============================] - 0s 6ms/step - loss: 0.1926 - accuracy: 0.6796\n",
      "Epoch 399/500\n",
      "9/9 [==============================] - 0s 6ms/step - loss: 0.1366 - accuracy: 0.7218\n",
      "Epoch 400/500\n",
      "9/9 [==============================] - 0s 6ms/step - loss: 0.1906 - accuracy: 0.7113\n",
      "Epoch 401/500\n",
      "9/9 [==============================] - 0s 7ms/step - loss: 0.1335 - accuracy: 0.7007\n",
      "Epoch 402/500\n",
      "9/9 [==============================] - 0s 6ms/step - loss: 0.1708 - accuracy: 0.7289\n",
      "Epoch 403/500\n",
      "9/9 [==============================] - 0s 6ms/step - loss: 0.1470 - accuracy: 0.7148\n",
      "Epoch 404/500\n",
      "9/9 [==============================] - 0s 11ms/step - loss: 0.1374 - accuracy: 0.7113\n",
      "Epoch 405/500\n",
      "9/9 [==============================] - 0s 10ms/step - loss: 0.1994 - accuracy: 0.7077\n",
      "Epoch 406/500\n",
      "9/9 [==============================] - 0s 6ms/step - loss: 0.1008 - accuracy: 0.7254\n",
      "Epoch 407/500\n",
      "9/9 [==============================] - 0s 7ms/step - loss: 0.1292 - accuracy: 0.7218\n",
      "Epoch 408/500\n",
      "9/9 [==============================] - 0s 7ms/step - loss: 0.1623 - accuracy: 0.7148\n",
      "Epoch 409/500\n",
      "9/9 [==============================] - 0s 6ms/step - loss: 0.1967 - accuracy: 0.7148\n",
      "Epoch 410/500\n",
      "9/9 [==============================] - 0s 5ms/step - loss: 0.1269 - accuracy: 0.7148\n",
      "Epoch 411/500\n",
      "9/9 [==============================] - 0s 6ms/step - loss: 0.1990 - accuracy: 0.7148\n",
      "Epoch 412/500\n",
      "9/9 [==============================] - 0s 6ms/step - loss: 0.1185 - accuracy: 0.7077\n",
      "Epoch 413/500\n",
      "9/9 [==============================] - 0s 5ms/step - loss: 0.1198 - accuracy: 0.7148\n",
      "Epoch 414/500\n",
      "9/9 [==============================] - 0s 6ms/step - loss: 0.1769 - accuracy: 0.7113\n",
      "Epoch 415/500\n",
      "9/9 [==============================] - 0s 6ms/step - loss: 0.1548 - accuracy: 0.7218\n",
      "Epoch 416/500\n",
      "9/9 [==============================] - 0s 7ms/step - loss: 0.1706 - accuracy: 0.6901\n",
      "Epoch 417/500\n",
      "9/9 [==============================] - 0s 10ms/step - loss: 0.1504 - accuracy: 0.7042\n",
      "Epoch 418/500\n",
      "9/9 [==============================] - 0s 6ms/step - loss: 0.1080 - accuracy: 0.7254\n",
      "Epoch 419/500\n",
      "9/9 [==============================] - 0s 5ms/step - loss: 0.1811 - accuracy: 0.7218\n",
      "Epoch 420/500\n",
      "9/9 [==============================] - 0s 6ms/step - loss: 0.2418 - accuracy: 0.7254\n",
      "Epoch 421/500\n",
      "9/9 [==============================] - 0s 7ms/step - loss: 0.1786 - accuracy: 0.7183\n",
      "Epoch 422/500\n",
      "9/9 [==============================] - 0s 6ms/step - loss: 0.1419 - accuracy: 0.7254\n",
      "Epoch 423/500\n",
      "9/9 [==============================] - 0s 6ms/step - loss: 0.0922 - accuracy: 0.7254\n",
      "Epoch 424/500\n",
      "9/9 [==============================] - 0s 9ms/step - loss: 0.1364 - accuracy: 0.7077\n",
      "Epoch 425/500\n",
      "9/9 [==============================] - 0s 6ms/step - loss: 0.0927 - accuracy: 0.7289\n",
      "Epoch 426/500\n",
      "9/9 [==============================] - 0s 7ms/step - loss: 0.1019 - accuracy: 0.7113\n",
      "Epoch 427/500\n",
      "9/9 [==============================] - 0s 6ms/step - loss: 0.1009 - accuracy: 0.7218\n",
      "Epoch 428/500\n",
      "9/9 [==============================] - 0s 6ms/step - loss: 0.1360 - accuracy: 0.7007\n",
      "Epoch 429/500\n",
      "9/9 [==============================] - 0s 7ms/step - loss: 0.1663 - accuracy: 0.7042\n",
      "Epoch 430/500\n",
      "9/9 [==============================] - 0s 6ms/step - loss: 0.1369 - accuracy: 0.7042\n",
      "Epoch 431/500\n",
      "9/9 [==============================] - 0s 6ms/step - loss: 0.1769 - accuracy: 0.6972\n",
      "Epoch 432/500\n",
      "9/9 [==============================] - 0s 6ms/step - loss: 0.1588 - accuracy: 0.7042\n",
      "Epoch 433/500\n",
      "9/9 [==============================] - 0s 6ms/step - loss: 0.0977 - accuracy: 0.7148\n",
      "Epoch 434/500\n",
      "9/9 [==============================] - 0s 6ms/step - loss: 0.0939 - accuracy: 0.7254\n",
      "Epoch 435/500\n",
      "9/9 [==============================] - 0s 6ms/step - loss: 0.1239 - accuracy: 0.7254\n",
      "Epoch 436/500\n",
      "9/9 [==============================] - 0s 11ms/step - loss: 0.1375 - accuracy: 0.7289\n",
      "Epoch 437/500\n",
      "9/9 [==============================] - 0s 6ms/step - loss: 0.1306 - accuracy: 0.7007\n",
      "Epoch 438/500\n",
      "9/9 [==============================] - 0s 6ms/step - loss: 0.1103 - accuracy: 0.7359\n",
      "Epoch 439/500\n",
      "9/9 [==============================] - 0s 7ms/step - loss: 0.0771 - accuracy: 0.7254\n",
      "Epoch 440/500\n",
      "9/9 [==============================] - 0s 6ms/step - loss: 0.1291 - accuracy: 0.7359\n",
      "Epoch 441/500\n",
      "9/9 [==============================] - 0s 8ms/step - loss: 0.1703 - accuracy: 0.7148\n",
      "Epoch 442/500\n",
      "9/9 [==============================] - 0s 6ms/step - loss: 0.1380 - accuracy: 0.7254\n",
      "Epoch 443/500\n",
      "9/9 [==============================] - 0s 6ms/step - loss: 0.1522 - accuracy: 0.7254\n",
      "Epoch 444/500\n",
      "9/9 [==============================] - 0s 6ms/step - loss: 0.1229 - accuracy: 0.7183\n",
      "Epoch 445/500\n",
      "9/9 [==============================] - 0s 12ms/step - loss: 0.1754 - accuracy: 0.7077\n",
      "Epoch 446/500\n",
      "9/9 [==============================] - 0s 8ms/step - loss: 0.2015 - accuracy: 0.7042\n",
      "Epoch 447/500\n",
      "9/9 [==============================] - 0s 7ms/step - loss: 0.1648 - accuracy: 0.7148\n",
      "Epoch 448/500\n",
      "9/9 [==============================] - 0s 6ms/step - loss: 0.1725 - accuracy: 0.7183\n",
      "Epoch 449/500\n",
      "9/9 [==============================] - 0s 7ms/step - loss: 0.1413 - accuracy: 0.7077\n",
      "Epoch 450/500\n",
      "9/9 [==============================] - 0s 6ms/step - loss: 0.1396 - accuracy: 0.7007\n",
      "Epoch 451/500\n",
      "9/9 [==============================] - 0s 6ms/step - loss: 0.1343 - accuracy: 0.7077\n",
      "Epoch 452/500\n",
      "9/9 [==============================] - 0s 6ms/step - loss: 0.1440 - accuracy: 0.7148\n",
      "Epoch 453/500\n",
      "9/9 [==============================] - 0s 9ms/step - loss: 0.1731 - accuracy: 0.6937\n",
      "Epoch 454/500\n",
      "9/9 [==============================] - 0s 6ms/step - loss: 0.1342 - accuracy: 0.7113\n",
      "Epoch 455/500\n",
      "9/9 [==============================] - 0s 6ms/step - loss: 0.1560 - accuracy: 0.7042\n",
      "Epoch 456/500\n",
      "9/9 [==============================] - 0s 6ms/step - loss: 0.1067 - accuracy: 0.7254\n",
      "Epoch 457/500\n",
      "9/9 [==============================] - 0s 6ms/step - loss: 0.1309 - accuracy: 0.7394\n",
      "Epoch 458/500\n",
      "9/9 [==============================] - 0s 7ms/step - loss: 0.1392 - accuracy: 0.7254\n",
      "Epoch 459/500\n",
      "9/9 [==============================] - 0s 6ms/step - loss: 0.0924 - accuracy: 0.7183\n",
      "Epoch 460/500\n",
      "9/9 [==============================] - 0s 6ms/step - loss: 0.0792 - accuracy: 0.7430\n",
      "Epoch 461/500\n",
      "9/9 [==============================] - 0s 5ms/step - loss: 0.1310 - accuracy: 0.7218\n",
      "Epoch 462/500\n",
      "9/9 [==============================] - 0s 6ms/step - loss: 0.0932 - accuracy: 0.7148\n",
      "Epoch 463/500\n",
      "9/9 [==============================] - 0s 6ms/step - loss: 0.1207 - accuracy: 0.7077\n",
      "Epoch 464/500\n",
      "9/9 [==============================] - 0s 6ms/step - loss: 0.1339 - accuracy: 0.7113\n",
      "Epoch 465/500\n",
      "9/9 [==============================] - 0s 6ms/step - loss: 0.1087 - accuracy: 0.7148\n",
      "Epoch 466/500\n",
      "9/9 [==============================] - 0s 6ms/step - loss: 0.0987 - accuracy: 0.7148\n",
      "Epoch 467/500\n",
      "9/9 [==============================] - 0s 6ms/step - loss: 0.0933 - accuracy: 0.7183\n",
      "Epoch 468/500\n",
      "9/9 [==============================] - 0s 11ms/step - loss: 0.1224 - accuracy: 0.7289\n",
      "Epoch 469/500\n",
      "9/9 [==============================] - 0s 8ms/step - loss: 0.1871 - accuracy: 0.6901\n",
      "Epoch 470/500\n",
      "9/9 [==============================] - 0s 5ms/step - loss: 0.1121 - accuracy: 0.7218\n",
      "Epoch 471/500\n",
      "9/9 [==============================] - 0s 7ms/step - loss: 0.1089 - accuracy: 0.7183\n",
      "Epoch 472/500\n",
      "9/9 [==============================] - 0s 6ms/step - loss: 0.1037 - accuracy: 0.7183\n",
      "Epoch 473/500\n",
      "9/9 [==============================] - 0s 10ms/step - loss: 0.0896 - accuracy: 0.7394\n",
      "Epoch 474/500\n",
      "9/9 [==============================] - 0s 6ms/step - loss: 0.0874 - accuracy: 0.7254\n",
      "Epoch 475/500\n",
      "9/9 [==============================] - 0s 6ms/step - loss: 0.1271 - accuracy: 0.7254\n",
      "Epoch 476/500\n",
      "9/9 [==============================] - 0s 6ms/step - loss: 0.1107 - accuracy: 0.7254\n",
      "Epoch 477/500\n",
      "9/9 [==============================] - 0s 5ms/step - loss: 0.1371 - accuracy: 0.6937\n",
      "Epoch 478/500\n",
      "9/9 [==============================] - 0s 6ms/step - loss: 0.0905 - accuracy: 0.7289\n",
      "Epoch 479/500\n",
      "9/9 [==============================] - 0s 6ms/step - loss: 0.1209 - accuracy: 0.7148\n",
      "Epoch 480/500\n",
      "9/9 [==============================] - 0s 6ms/step - loss: 0.1079 - accuracy: 0.6937\n",
      "Epoch 481/500\n",
      "9/9 [==============================] - 0s 6ms/step - loss: 0.1605 - accuracy: 0.7218\n",
      "Epoch 482/500\n",
      "9/9 [==============================] - 0s 6ms/step - loss: 0.1484 - accuracy: 0.6972\n",
      "Epoch 483/500\n",
      "9/9 [==============================] - 0s 6ms/step - loss: 0.1795 - accuracy: 0.7113\n",
      "Epoch 484/500\n",
      "9/9 [==============================] - 0s 6ms/step - loss: 0.0885 - accuracy: 0.7359\n",
      "Epoch 485/500\n",
      "9/9 [==============================] - 0s 6ms/step - loss: 0.1060 - accuracy: 0.7148\n",
      "Epoch 486/500\n",
      "9/9 [==============================] - 0s 6ms/step - loss: 0.1106 - accuracy: 0.7289\n",
      "Epoch 487/500\n",
      "9/9 [==============================] - 0s 6ms/step - loss: 0.1514 - accuracy: 0.7077\n",
      "Epoch 488/500\n",
      "9/9 [==============================] - 0s 6ms/step - loss: 0.1168 - accuracy: 0.7324\n",
      "Epoch 489/500\n",
      "9/9 [==============================] - 0s 5ms/step - loss: 0.1395 - accuracy: 0.7148\n",
      "Epoch 490/500\n",
      "9/9 [==============================] - 0s 9ms/step - loss: 0.1295 - accuracy: 0.7148\n",
      "Epoch 491/500\n",
      "9/9 [==============================] - 0s 7ms/step - loss: 0.1176 - accuracy: 0.7218\n",
      "Epoch 492/500\n",
      "9/9 [==============================] - 0s 15ms/step - loss: 0.1042 - accuracy: 0.7113\n",
      "Epoch 493/500\n",
      "9/9 [==============================] - 0s 8ms/step - loss: 0.1140 - accuracy: 0.7218\n",
      "Epoch 494/500\n",
      "9/9 [==============================] - 0s 6ms/step - loss: 0.0898 - accuracy: 0.7183\n",
      "Epoch 495/500\n",
      "9/9 [==============================] - 0s 7ms/step - loss: 0.0906 - accuracy: 0.7218\n",
      "Epoch 496/500\n",
      "9/9 [==============================] - 0s 6ms/step - loss: 0.1102 - accuracy: 0.7289\n",
      "Epoch 497/500\n",
      "9/9 [==============================] - 0s 6ms/step - loss: 0.1317 - accuracy: 0.7254\n",
      "Epoch 498/500\n",
      "9/9 [==============================] - 0s 6ms/step - loss: 0.1488 - accuracy: 0.7359\n",
      "Epoch 499/500\n",
      "9/9 [==============================] - 0s 5ms/step - loss: 0.1393 - accuracy: 0.7289\n",
      "Epoch 500/500\n",
      "9/9 [==============================] - 0s 6ms/step - loss: 0.1413 - accuracy: 0.7218\n"
     ]
    },
    {
     "data": {
      "text/plain": [
       "<keras.src.callbacks.History at 0x1a84fa85a80>"
      ]
     },
     "execution_count": 43,
     "metadata": {},
     "output_type": "execute_result"
    }
   ],
   "source": [
    "# Compile the model using adam optimizer with loss function of MSE and my metrics was accuracy to see the percentage \n",
    "model.compile(optimizer='adam', loss='mean_squared_error', metrics=['accuracy'])\n",
    "\n",
    "# Training the model \n",
    "model.fit(x_train, y_train, epochs=500)"
   ]
  },
  {
   "cell_type": "code",
   "execution_count": 44,
   "metadata": {},
   "outputs": [
    {
     "name": "stdout",
     "output_type": "stream",
     "text": [
      "4/4 [==============================] - 0s 5ms/step - loss: 2.3653 - accuracy: 0.4146\n"
     ]
    },
    {
     "data": {
      "text/plain": [
       "[2.3652637004852295, 0.4146341383457184]"
      ]
     },
     "execution_count": 44,
     "metadata": {},
     "output_type": "execute_result"
    }
   ],
   "source": [
    "# Evaluating the model\n",
    "model.evaluate(x_test, y_test)"
   ]
  },
  {
   "cell_type": "markdown",
   "metadata": {},
   "source": [
    "The model predicted my test dataset with loss 2.36 of and accuracy of 0.41"
   ]
  },
  {
   "cell_type": "markdown",
   "metadata": {},
   "source": [
    "# End Time"
   ]
  },
  {
   "cell_type": "code",
   "execution_count": 45,
   "metadata": {},
   "outputs": [
    {
     "name": "stdout",
     "output_type": "stream",
     "text": [
      "Total runtime: 0 minutes and 54 seconds\n"
     ]
    }
   ],
   "source": [
    "end_time = time.time()\n",
    "elapsed_time = end_time - start_time\n",
    "\n",
    "minutes = int(elapsed_time // 60)\n",
    "seconds = int(elapsed_time % 60)\n",
    "\n",
    "print(\"Total runtime:\", minutes, \"minutes and\", seconds, \"seconds\")"
   ]
  }
 ],
 "metadata": {
  "kernelspec": {
   "display_name": "base",
   "language": "python",
   "name": "python3"
  },
  "language_info": {
   "codemirror_mode": {
    "name": "ipython",
    "version": 3
   },
   "file_extension": ".py",
   "mimetype": "text/x-python",
   "name": "python",
   "nbconvert_exporter": "python",
   "pygments_lexer": "ipython3",
   "version": "3.10.4"
  },
  "orig_nbformat": 4
 },
 "nbformat": 4,
 "nbformat_minor": 2
}
